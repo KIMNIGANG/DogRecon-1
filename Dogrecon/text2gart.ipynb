{
 "cells": [
  {
   "cell_type": "markdown",
   "metadata": {},
   "source": [
    "# Text2GART"
   ]
  },
  {
   "cell_type": "code",
   "execution_count": 1,
   "metadata": {},
   "outputs": [],
   "source": [
    "%load_ext autoreload\n",
    "%autoreload 2\n",
    "import os, os.path as osp\n",
    "from solver import TGFitter\n",
    "import torch\n",
    "from viz_utils import viz_human_all"
   ]
  },
  {
   "cell_type": "code",
   "execution_count": 2,
   "metadata": {},
   "outputs": [
    {
     "name": "stdout",
     "output_type": "stream",
     "text": [
      "Loading MVDream\n",
      "Loading model from config: sd-v2-base.yaml\n",
      "No module 'xformers'. Proceeding without it.\n",
      "making attention of type 'vanilla' with 512 in_channels\n",
      "Working with z of shape (1, 4, 32, 32) = 4096 dimensions.\n",
      "making attention of type 'vanilla' with 512 in_channels\n",
      "Loading model from cache file: /mnt/kostas_home/leijh/.cache/huggingface/hub/models--MVDream--MVDream/snapshots/d14ac9d78c48c266005729f2d5633f6c265da467/sd-v2.1-base-4view.pt\n"
     ]
    },
    {
     "data": {
      "application/vnd.jupyter.widget-view+json": {
       "model_id": "968004bc5dca4be3af92e8e43c714705",
       "version_major": 2,
       "version_minor": 0
      },
      "text/plain": [
       "Loading pipeline components...:   0%|          | 0/6 [00:00<?, ?it/s]"
      ]
     },
     "metadata": {},
     "output_type": "display_data"
    }
   ],
   "source": [
    "from lib_guidance.mvdream.mvdream_guidance import MVDream\n",
    "\n",
    "# guidance = MVDream(torch.device(\"cuda\"), fp16=True, n_view=4, t_range=[0.02, 0.98]) # seems reduce 20% time\n",
    "guidance = MVDream(torch.device(\"cuda\"), fp16=False, n_view=4, t_range=[0.02, 0.98])"
   ]
  },
  {
   "cell_type": "code",
   "execution_count": 3,
   "metadata": {},
   "outputs": [],
   "source": [
    "texts = [\n",
    "    \"A yellow CyberPunk robot, silver skeleton\",\n",
    "    \"A frog character from a game\",\n",
    "    # \"A red Gundam Zaku, with a jet backpack\",\n",
    "    # \"A doctor in green surgical uniform\",\n",
    "    # \"A policeman in blue uniform\",\n",
    "    # \"A white humanoid robot from 23 century with red eyes\",\n",
    "    # \"A silver robot with single red eye like hal9000\",\n",
    "    # \"An energetic computer science professor, wit blue t-shirt, black jeans\",\n",
    "    # \"A knight with a sword on his hand\",\n",
    "    # \"Skywalker\",\n",
    "    # \"A pink cute ellipsoid robot\",\n",
    "    # \"Spiderman with batman suit\",\n",
    "    # \"A walking Banana\",\n",
    "    # \"A dinosaur\",\n",
    "    # \"A dog\",\n",
    "]"
   ]
  },
  {
   "cell_type": "code",
   "execution_count": 4,
   "metadata": {},
   "outputs": [
    {
     "name": "stdout",
     "output_type": "stream",
     "text": [
      "A yellow CyberPunk robot, silver skeleton\n"
     ]
    },
    {
     "name": "stderr",
     "output_type": "stream",
     "text": [
      "cp: target 'skeleton/backup/' is not a directory\n"
     ]
    },
    {
     "name": "stdout",
     "output_type": "stream",
     "text": [
      "Caching ./data/amass/BMLrub/ ...\n"
     ]
    },
    {
     "name": "stderr",
     "output_type": "stream",
     "text": [
      "100%|██████████| 112/112 [00:13<00:00,  8.12it/s]\n"
     ]
    },
    {
     "name": "stdout",
     "output_type": "stream",
     "text": [
      "Database has poses 3763367 with DA-pose prob 0.0 and range [0.0, 0.7853981633974483]\n",
      "Using predefined pose: a_pose\n"
     ]
    },
    {
     "name": "stderr",
     "output_type": "stream",
     "text": [
      "| kd-a40-0 | INFO | Nov-27-20:08:35 | Init 20000 Components inside the mesh   [init_helpers.py:152]\n",
      "| kd-a40-0 | INFO | Nov-27-20:08:35 | Init with 20000 Gaussians   [solver.py:225]\n",
      "| kd-a40-0 | INFO | Nov-27-20:08:35 | Start training at 1701115715.580202   [solver.py:797]\n",
      "  6%|▌         | 75/1300 [00:31<18:07,  1.13it/s]| kd-a40-0 | INFO | Nov-27-20:09:07 | Densify: Clone[+] 5066, Split[+] 0   [model.py:682]\n",
      "| kd-a40-0 | INFO | Nov-27-20:09:07 | Densify: 20000->25066   [solver.py:914]\n",
      " 12%|█▏        | 150/1300 [01:00<13:50,  1.38it/s]| kd-a40-0 | INFO | Nov-27-20:09:36 | Densify: Clone[+] 6838, Split[+] 0   [model.py:682]\n",
      "| kd-a40-0 | INFO | Nov-27-20:09:36 | Densify: 25066->31904   [solver.py:914]\n",
      " 15%|█▌        | 200/1300 [01:21<14:46,  1.24it/s]| kd-a40-0 | INFO | Nov-27-20:09:57 | Prune: 231   [model.py:734]\n",
      "| kd-a40-0 | INFO | Nov-27-20:09:57 | Prune: 31904->31673   [solver.py:923]\n",
      " 17%|█▋        | 225/1300 [01:31<12:55,  1.39it/s]| kd-a40-0 | INFO | Nov-27-20:10:07 | Densify: Clone[+] 9213, Split[+] 112   [model.py:682]\n",
      "| kd-a40-0 | INFO | Nov-27-20:10:07 | Densify: 31673->40942   [solver.py:914]\n",
      " 23%|██▎       | 300/1300 [02:02<14:17,  1.17it/s]| kd-a40-0 | INFO | Nov-27-20:10:38 | Densify: Clone[+] 10190, Split[+] 434   [model.py:682]\n",
      "| kd-a40-0 | INFO | Nov-27-20:10:38 | Densify: 40942->51349   [solver.py:914]\n",
      " 29%|██▉       | 375/1300 [02:33<11:57,  1.29it/s]| kd-a40-0 | INFO | Nov-27-20:11:09 | Densify: Clone[+] 11577, Split[+] 938   [model.py:682]\n",
      "| kd-a40-0 | INFO | Nov-27-20:11:09 | Densify: 51349->63395   [solver.py:914]\n",
      " 31%|███       | 400/1300 [02:44<13:09,  1.14it/s]| kd-a40-0 | INFO | Nov-27-20:11:20 | Prune: 1160   [model.py:734]\n",
      "| kd-a40-0 | INFO | Nov-27-20:11:20 | Prune: 63395->62235   [solver.py:923]\n",
      " 35%|███▍      | 450/1300 [03:06<14:00,  1.01it/s]| kd-a40-0 | INFO | Nov-27-20:11:42 | Densify: Clone[+] 13541, Split[+] 1834   [model.py:682]\n",
      "| kd-a40-0 | INFO | Nov-27-20:11:42 | Densify: 62235->76693   [solver.py:914]\n",
      " 40%|████      | 525/1300 [03:40<10:28,  1.23it/s]| kd-a40-0 | INFO | Nov-27-20:12:16 | Densify: Clone[+] 15606, Split[+] 2614   [model.py:682]\n",
      "| kd-a40-0 | INFO | Nov-27-20:12:16 | Densify: 76693->93606   [solver.py:914]\n",
      " 46%|████▌     | 600/1300 [04:14<09:30,  1.23it/s]| kd-a40-0 | INFO | Nov-27-20:12:50 | Densify: Clone[+] 18355, Split[+] 3820   [model.py:682]\n",
      "| kd-a40-0 | INFO | Nov-27-20:12:50 | Densify: 93606->113871   [solver.py:914]\n",
      "| kd-a40-0 | INFO | Nov-27-20:12:50 | Prune: 1461   [model.py:734]\n",
      "| kd-a40-0 | INFO | Nov-27-20:12:50 | Prune: 113871->112410   [solver.py:923]\n",
      "| kd-a40-0 | INFO | Nov-27-20:12:50 | Reset opacity to 0.05   [model.py:849]\n",
      " 52%|█████▏    | 675/1300 [04:52<08:48,  1.18it/s]| kd-a40-0 | INFO | Nov-27-20:13:28 | Densify: Clone[+] 17152, Split[+] 4926   [model.py:682]\n",
      "| kd-a40-0 | INFO | Nov-27-20:13:28 | Densify: 112410->132025   [solver.py:914]\n",
      " 58%|█████▊    | 750/1300 [05:32<08:06,  1.13it/s]| kd-a40-0 | INFO | Nov-27-20:14:08 | Densify: Clone[+] 12460, Split[+] 4846   [model.py:682]\n",
      "| kd-a40-0 | INFO | Nov-27-20:14:08 | Densify: 132025->146908   [solver.py:914]\n",
      " 62%|██████▏   | 800/1300 [06:00<08:13,  1.01it/s]| kd-a40-0 | INFO | Nov-27-20:14:36 | Prune: 72791   [model.py:734]\n",
      "| kd-a40-0 | INFO | Nov-27-20:14:36 | Prune: 146908->74117   [solver.py:923]\n",
      " 63%|██████▎   | 825/1300 [06:11<07:06,  1.11it/s]| kd-a40-0 | INFO | Nov-27-20:14:47 | Densify: Clone[+] 10052, Split[+] 4394   [model.py:682]\n",
      "| kd-a40-0 | INFO | Nov-27-20:14:47 | Densify: 74117->86366   [solver.py:914]\n",
      " 69%|██████▉   | 900/1300 [06:47<07:25,  1.11s/it]| kd-a40-0 | INFO | Nov-27-20:15:23 | Densify: Clone[+] 9438, Split[+] 3610   [model.py:682]\n",
      "| kd-a40-0 | INFO | Nov-27-20:15:23 | Densify: 86366->97609   [solver.py:914]\n",
      " 75%|███████▌  | 975/1300 [07:23<04:28,  1.21it/s]| kd-a40-0 | INFO | Nov-27-20:15:59 | Densify: Clone[+] 6795, Split[+] 2642   [model.py:682]\n",
      "| kd-a40-0 | INFO | Nov-27-20:15:59 | Densify: 97609->105725   [solver.py:914]\n",
      " 77%|███████▋  | 1000/1300 [07:35<04:39,  1.07it/s]| kd-a40-0 | INFO | Nov-27-20:16:10 | active_sph_order: 1   [solver.py:814]\n",
      "| kd-a40-0 | INFO | Nov-27-20:16:11 | Prune: 11019   [model.py:734]\n",
      "| kd-a40-0 | INFO | Nov-27-20:16:11 | Prune: 105725->94706   [solver.py:923]\n",
      " 92%|█████████▏| 1200/1300 [09:09<01:23,  1.19it/s]| kd-a40-0 | INFO | Nov-27-20:17:45 | Prune: 1353   [model.py:734]\n",
      "| kd-a40-0 | INFO | Nov-27-20:17:45 | Prune: 94706->93353   [solver.py:923]\n",
      "100%|██████████| 1300/1300 [09:58<00:00,  2.17it/s]\n",
      "| kd-a40-0 | INFO | Nov-27-20:18:33 | Training time: 598.003 seconds i.e. 9.967 minutes   [solver.py:1038]\n",
      "| kd-a40-0 | INFO | Nov-27-20:18:33 | Saving model...   [solver.py:1043]\n",
      "| kd-a40-0 | INFO | Nov-27-20:18:33 | [_xyz:280.1K] [_rotation:373.4K] [_scaling:280.1K] [_opacity:93.4K] [_features_dc:280.1K] [_features_rest:840.2K] [_w_correction_dc:0.0K] [_w_correction_rest:0.0K] [_features_localcode:0.0K] [template.voxel_deformer.voxel_w_correction:6000.0K] [template.voxel_deformer.additional_correction:2000.0K]    [model.py:261]\n"
     ]
    },
    {
     "name": "stdout",
     "output_type": "stream",
     "text": [
      "Using predefined pose: a_pose\n"
     ]
    },
    {
     "name": "stderr",
     "output_type": "stream",
     "text": [
      "| kd-a40-0 | INFO | Nov-27-20:18:51 | Init 20000 Components inside the mesh   [init_helpers.py:152]\n",
      "| kd-a40-0 | INFO | Nov-27-20:18:51 | Init with 20000 Gaussians   [solver.py:225]\n",
      "| kd-a40-0 | INFO | Nov-27-20:18:51 | After loading:   [solver.py:174]\n",
      "| kd-a40-0 | INFO | Nov-27-20:18:51 | [_xyz:280.1K] [_rotation:373.4K] [_scaling:280.1K] [_opacity:93.4K] [_features_dc:280.1K] [_features_rest:840.2K] [_w_correction_dc:0.0K] [_w_correction_rest:0.0K] [_features_localcode:0.0K] [template.voxel_deformer.voxel_w_correction:6000.0K] [template.voxel_deformer.additional_correction:2000.0K]    [model.py:261]\n"
     ]
    },
    {
     "name": "stdout",
     "output_type": "stream",
     "text": [
      "Viz spinning...\n",
      "Viz novel cano-pose...\n",
      "Viz novel t-pose...\n",
      "Viz novel da-pose...\n",
      "Viz novel seq...\n",
      "A frog character from a game\n"
     ]
    },
    {
     "name": "stderr",
     "output_type": "stream",
     "text": [
      "cp: target 'game/backup/' is not a directory\n"
     ]
    },
    {
     "name": "stdout",
     "output_type": "stream",
     "text": [
      "Caching ./data/amass/BMLrub/ ...\n"
     ]
    },
    {
     "name": "stderr",
     "output_type": "stream",
     "text": [
      "100%|██████████| 112/112 [00:09<00:00, 12.26it/s]\n"
     ]
    },
    {
     "name": "stdout",
     "output_type": "stream",
     "text": [
      "Database has poses 3763367 with DA-pose prob 0.0 and range [0.0, 0.7853981633974483]\n",
      "Using predefined pose: a_pose\n"
     ]
    },
    {
     "name": "stderr",
     "output_type": "stream",
     "text": [
      "| kd-a40-0 | INFO | Nov-27-20:20:11 | Init 20000 Components inside the mesh   [init_helpers.py:152]\n",
      "| kd-a40-0 | INFO | Nov-27-20:20:11 | Init with 20000 Gaussians   [solver.py:225]\n",
      "| kd-a40-0 | INFO | Nov-27-20:20:11 | Start training at 1701116411.243235   [solver.py:797]\n",
      "  6%|▌         | 75/1300 [00:30<15:57,  1.28it/s]| kd-a40-0 | INFO | Nov-27-20:20:41 | Densify: Clone[+] 2899, Split[+] 0   [model.py:682]\n",
      "| kd-a40-0 | INFO | Nov-27-20:20:41 | Densify: 20000->22899   [solver.py:914]\n",
      " 12%|█▏        | 150/1300 [00:59<13:33,  1.41it/s]| kd-a40-0 | INFO | Nov-27-20:21:11 | Densify: Clone[+] 4482, Split[+] 80   [model.py:682]\n",
      "| kd-a40-0 | INFO | Nov-27-20:21:11 | Densify: 22899->27421   [solver.py:914]\n",
      " 15%|█▌        | 200/1300 [01:19<15:31,  1.18it/s]| kd-a40-0 | INFO | Nov-27-20:21:31 | Prune: 203   [model.py:734]\n",
      "| kd-a40-0 | INFO | Nov-27-20:21:31 | Prune: 27421->27218   [solver.py:923]\n",
      " 17%|█▋        | 225/1300 [01:29<12:48,  1.40it/s]| kd-a40-0 | INFO | Nov-27-20:21:41 | Densify: Clone[+] 5363, Split[+] 654   [model.py:682]\n",
      "| kd-a40-0 | INFO | Nov-27-20:21:41 | Densify: 27218->32908   [solver.py:914]\n",
      " 23%|██▎       | 300/1300 [02:00<12:18,  1.35it/s]| kd-a40-0 | INFO | Nov-27-20:22:12 | Densify: Clone[+] 6365, Split[+] 826   [model.py:682]\n",
      "| kd-a40-0 | INFO | Nov-27-20:22:12 | Densify: 32908->39686   [solver.py:914]\n",
      " 29%|██▉       | 375/1300 [02:32<12:07,  1.27it/s]| kd-a40-0 | INFO | Nov-27-20:22:43 | Densify: Clone[+] 7386, Split[+] 1582   [model.py:682]\n",
      "| kd-a40-0 | INFO | Nov-27-20:22:43 | Densify: 39686->47863   [solver.py:914]\n",
      " 31%|███       | 400/1300 [02:42<14:11,  1.06it/s]| kd-a40-0 | INFO | Nov-27-20:22:54 | Prune: 2379   [model.py:734]\n",
      "| kd-a40-0 | INFO | Nov-27-20:22:54 | Prune: 47863->45484   [solver.py:923]\n",
      " 35%|███▍      | 450/1300 [03:04<13:13,  1.07it/s]| kd-a40-0 | INFO | Nov-27-20:23:15 | Densify: Clone[+] 8606, Split[+] 2436   [model.py:682]\n",
      "| kd-a40-0 | INFO | Nov-27-20:23:15 | Densify: 45484->55308   [solver.py:914]\n",
      " 40%|████      | 525/1300 [03:36<10:07,  1.28it/s]| kd-a40-0 | INFO | Nov-27-20:23:47 | Densify: Clone[+] 9188, Split[+] 3292   [model.py:682]\n",
      "| kd-a40-0 | INFO | Nov-27-20:23:47 | Densify: 55308->66142   [solver.py:914]\n",
      " 46%|████▌     | 600/1300 [04:08<09:19,  1.25it/s]| kd-a40-0 | INFO | Nov-27-20:24:20 | Densify: Clone[+] 10167, Split[+] 4218   [model.py:682]\n",
      "| kd-a40-0 | INFO | Nov-27-20:24:20 | Densify: 66142->78418   [solver.py:914]\n",
      "| kd-a40-0 | INFO | Nov-27-20:24:20 | Prune: 2571   [model.py:734]\n",
      "| kd-a40-0 | INFO | Nov-27-20:24:20 | Prune: 78418->75847   [solver.py:923]\n",
      "| kd-a40-0 | INFO | Nov-27-20:24:20 | Reset opacity to 0.05   [model.py:849]\n",
      " 52%|█████▏    | 675/1300 [04:43<08:38,  1.20it/s]| kd-a40-0 | INFO | Nov-27-20:24:55 | Densify: Clone[+] 13198, Split[+] 6090   [model.py:682]\n",
      "| kd-a40-0 | INFO | Nov-27-20:24:55 | Densify: 75847->92090   [solver.py:914]\n",
      " 58%|█████▊    | 750/1300 [05:20<10:54,  1.19s/it]| kd-a40-0 | INFO | Nov-27-20:25:31 | Densify: Clone[+] 8574, Split[+] 5720   [model.py:682]\n",
      "| kd-a40-0 | INFO | Nov-27-20:25:31 | Densify: 92090->103524   [solver.py:914]\n",
      " 62%|██████▏   | 800/1300 [05:44<08:30,  1.02s/it]| kd-a40-0 | INFO | Nov-27-20:25:56 | Prune: 45241   [model.py:734]\n",
      "| kd-a40-0 | INFO | Nov-27-20:25:56 | Prune: 103524->58283   [solver.py:923]\n",
      " 63%|██████▎   | 825/1300 [05:55<07:39,  1.03it/s]| kd-a40-0 | INFO | Nov-27-20:26:07 | Densify: Clone[+] 7102, Split[+] 4532   [model.py:682]\n",
      "| kd-a40-0 | INFO | Nov-27-20:26:07 | Densify: 58283->67651   [solver.py:914]\n",
      " 69%|██████▉   | 900/1300 [06:30<06:43,  1.01s/it]| kd-a40-0 | INFO | Nov-27-20:26:41 | Densify: Clone[+] 6962, Split[+] 3814   [model.py:682]\n",
      "| kd-a40-0 | INFO | Nov-27-20:26:41 | Densify: 67651->76520   [solver.py:914]\n",
      " 75%|███████▌  | 975/1300 [07:04<04:24,  1.23it/s]| kd-a40-0 | INFO | Nov-27-20:27:16 | Densify: Clone[+] 4987, Split[+] 2576   [model.py:682]\n",
      "| kd-a40-0 | INFO | Nov-27-20:27:16 | Densify: 76520->82795   [solver.py:914]\n",
      " 77%|███████▋  | 1000/1300 [07:16<04:55,  1.01it/s]| kd-a40-0 | INFO | Nov-27-20:27:27 | active_sph_order: 1   [solver.py:814]\n",
      "| kd-a40-0 | INFO | Nov-27-20:27:27 | Prune: 6598   [model.py:734]\n",
      "| kd-a40-0 | INFO | Nov-27-20:27:27 | Prune: 82795->76197   [solver.py:923]\n",
      " 92%|█████████▏| 1200/1300 [08:47<01:23,  1.19it/s]| kd-a40-0 | INFO | Nov-27-20:28:59 | Prune: 964   [model.py:734]\n",
      "| kd-a40-0 | INFO | Nov-27-20:28:59 | Prune: 76197->75233   [solver.py:923]\n",
      "100%|██████████| 1300/1300 [09:34<00:00,  2.26it/s]\n",
      "| kd-a40-0 | INFO | Nov-27-20:29:45 | Training time: 574.102 seconds i.e. 9.568 minutes   [solver.py:1038]\n",
      "| kd-a40-0 | INFO | Nov-27-20:29:45 | Saving model...   [solver.py:1043]\n",
      "| kd-a40-0 | INFO | Nov-27-20:29:45 | [_xyz:225.7K] [_rotation:300.9K] [_scaling:225.7K] [_opacity:75.2K] [_features_dc:225.7K] [_features_rest:677.1K] [_w_correction_dc:0.0K] [_w_correction_rest:0.0K] [_features_localcode:0.0K] [template.voxel_deformer.voxel_w_correction:6000.0K] [template.voxel_deformer.additional_correction:2000.0K]    [model.py:261]\n"
     ]
    },
    {
     "name": "stdout",
     "output_type": "stream",
     "text": [
      "Using predefined pose: a_pose\n"
     ]
    },
    {
     "name": "stderr",
     "output_type": "stream",
     "text": [
      "| kd-a40-0 | INFO | Nov-27-20:30:04 | Init 20000 Components inside the mesh   [init_helpers.py:152]\n",
      "| kd-a40-0 | INFO | Nov-27-20:30:04 | Init with 20000 Gaussians   [solver.py:225]\n",
      "| kd-a40-0 | INFO | Nov-27-20:30:04 | After loading:   [solver.py:174]\n",
      "| kd-a40-0 | INFO | Nov-27-20:30:04 | [_xyz:225.7K] [_rotation:300.9K] [_scaling:225.7K] [_opacity:75.2K] [_features_dc:225.7K] [_features_rest:677.1K] [_w_correction_dc:0.0K] [_w_correction_rest:0.0K] [_features_localcode:0.0K] [template.voxel_deformer.voxel_w_correction:6000.0K] [template.voxel_deformer.additional_correction:2000.0K]    [model.py:261]\n"
     ]
    },
    {
     "name": "stdout",
     "output_type": "stream",
     "text": [
      "Viz spinning...\n",
      "Viz novel cano-pose...\n",
      "Viz novel t-pose...\n",
      "Viz novel da-pose...\n",
      "Viz novel seq...\n"
     ]
    }
   ],
   "source": [
    "profile_fn = \"./profiles/text2gart/gen.yaml\"\n",
    "base_name = \"text2gart\"\n",
    "# # or you could try this, adding camera location near hands, but seems not that helpful\n",
    "# profile_fn = \"./profiles/text2gart/gen_hand.yaml\"\n",
    "# base_name = \"text2gart_hand_enhance\"\n",
    "\n",
    "os.makedirs(f\"./logs/{base_name}\", exist_ok=True)\n",
    "\n",
    "for txt in texts:\n",
    "    torch.cuda.empty_cache()\n",
    "    print(txt)\n",
    "    guidance.set_text_embeds(\n",
    "        [txt + \"; smooth texture, clean image, single subject image, black background\"],\n",
    "        [\n",
    "            \"ugly, bad anatomy, blurry, pixelated obscure, unnatural colors, poor lighting, dull, and unclear, lowres, low quality, artifacts, duplicate, morbid, mutilated, poorly drawn face, dehydrated, bad proportions\"\n",
    "        ],  # remove the cropped, deformed\n",
    "    )\n",
    "\n",
    "    log_id = len(os.listdir(f\"./logs/{base_name}\")) + 1\n",
    "    log_dir = f\"./logs/{base_name}/{log_id}_{txt}\"\n",
    "\n",
    "    solver = TGFitter(\n",
    "        log_dir=log_dir,\n",
    "        profile_fn=profile_fn,\n",
    "        mode=\"human\",\n",
    "        template_model_path=\"./data/smpl_model/SMPL_MALE.pkl\",\n",
    "        device=torch.device(\"cuda:0\"),\n",
    "        NO_TB=True,\n",
    "    )\n",
    "\n",
    "    data_provider = solver.prepare_fake_data(\n",
    "        mode=\"amass\",\n",
    "        pose_dirs=[\"./data/amass/BMLrub/\"],\n",
    "        da_pose_prob=0.0,\n",
    "    )\n",
    "\n",
    "    _, _ = solver.run(fake_data_provider=data_provider, guidance=guidance)\n",
    "    viz_human_all(solver, None, training_skip=1)"
   ]
  }
 ],
 "metadata": {
  "kernelspec": {
   "display_name": "tpg",
   "language": "python",
   "name": "python3"
  },
  "language_info": {
   "codemirror_mode": {
    "name": "ipython",
    "version": 3
   },
   "file_extension": ".py",
   "mimetype": "text/x-python",
   "name": "python",
   "nbconvert_exporter": "python",
   "pygments_lexer": "ipython3",
   "version": "3.9.18"
  }
 },
 "nbformat": 4,
 "nbformat_minor": 2
}
