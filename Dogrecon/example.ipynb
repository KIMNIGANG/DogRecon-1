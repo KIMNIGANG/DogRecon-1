{
 "cells": [
  {
   "cell_type": "markdown",
   "metadata": {},
   "source": [
    "## PeopleSnapshot"
   ]
  },
  {
   "cell_type": "code",
   "execution_count": 1,
   "metadata": {},
   "outputs": [],
   "source": [
    "# prepare\n",
    "%load_ext autoreload\n",
    "%autoreload 2\n",
    "import os, os.path as osp\n",
    "from solver import TGFitter\n",
    "from datetime import datetime\n",
    "import torch\n",
    "from test_utils import test\n",
    "from viz_utils import viz_human_all\n",
    "\n",
    "torch.cuda.empty_cache()\n",
    "dataset_mode = \"people_snapshot\"\n",
    "seq_name = \"male-3-casual\"\n",
    "\n",
    "profile_fn = \"./profiles/people/people_1m.yaml\"\n",
    "\n",
    "base_name = \"example_release\"\n",
    "log_dir = f\"./logs/{base_name}/seq={seq_name}_prof={osp.basename(profile_fn).split('.')[0]}_data={dataset_mode}\"\n",
    "\n",
    "solver = TGFitter(\n",
    "    log_dir=log_dir,\n",
    "    profile_fn=profile_fn,\n",
    "    mode=\"human\",\n",
    "    template_model_path=\"./data/smpl_model/SMPL_MALE.pkl\",\n",
    "    device=torch.device(\"cuda:0\"),\n",
    "    FAST_TRAINING=False,\n",
    ")"
   ]
  },
  {
   "cell_type": "code",
   "execution_count": 2,
   "metadata": {},
   "outputs": [
    {
     "name": "stderr",
     "output_type": "stream",
     "text": [
      "| endurance | INFO | Nov-26-23:45:41 | Prepare real seq: male-3-casual   [get_data.py:24]\n",
      "100%|██████████| 114/114 [00:02<00:00, 43.60it/s]\n"
     ]
    },
    {
     "name": "stdout",
     "output_type": "stream",
     "text": [
      "Load Instant Avatar processed PeopleSnapshot\n"
     ]
    },
    {
     "name": "stderr",
     "output_type": "stream",
     "text": [
      "100%|██████████| 114/114 [00:00<00:00, 632.96it/s]\n"
     ]
    },
    {
     "name": "stdout",
     "output_type": "stream",
     "text": [
      "Using predefined pose: da_pose\n"
     ]
    },
    {
     "name": "stderr",
     "output_type": "stream",
     "text": [
      "| endurance | INFO | Nov-26-23:45:48 | Init with 6890 Gaussians   [solver.py:225]\n",
      "| endurance | INFO | Nov-26-23:45:48 | Start training at 1701060348.0588639   [solver.py:797]\n",
      " 15%|█▍        | 298/2000 [00:09<00:42, 39.89it/s]| endurance | INFO | Nov-26-23:45:57 | Densify: Clone[+] 271, Split[+] 6476   [model.py:682]\n",
      "| endurance | INFO | Nov-26-23:45:57 | Densify: 6890->10399   [solver.py:914]\n",
      "| endurance | INFO | Nov-26-23:45:57 | Prune: 351   [model.py:734]\n",
      "| endurance | INFO | Nov-26-23:45:57 | Prune: 10399->10048   [solver.py:923]\n",
      " 30%|███       | 602/2000 [00:19<00:36, 37.99it/s]| endurance | INFO | Nov-26-23:46:07 | Densify: Clone[+] 441, Split[+] 9594   [model.py:682]\n",
      "| endurance | INFO | Nov-26-23:46:07 | Densify: 10048->15286   [solver.py:914]\n",
      "| endurance | INFO | Nov-26-23:46:07 | Prune: 453   [model.py:734]\n",
      "| endurance | INFO | Nov-26-23:46:07 | Prune: 15286->14833   [solver.py:923]\n",
      " 45%|████▌     | 902/2000 [00:28<00:31, 34.49it/s]| endurance | INFO | Nov-26-23:46:16 | Densify: Clone[+] 1116, Split[+] 13288   [model.py:682]\n",
      "| endurance | INFO | Nov-26-23:46:16 | Densify: 14833->22593   [solver.py:914]\n",
      "| endurance | INFO | Nov-26-23:46:16 | Prune: 265   [model.py:734]\n",
      "| endurance | INFO | Nov-26-23:46:16 | Prune: 22593->22328   [solver.py:923]\n",
      " 50%|████▉     | 998/2000 [00:31<00:32, 31.13it/s]| endurance | INFO | Nov-26-23:46:20 | active_sph_order: 1   [solver.py:814]\n",
      " 60%|██████    | 1201/2000 [00:39<00:26, 30.51it/s]| endurance | INFO | Nov-26-23:46:27 | Densify: Clone[+] 2298, Split[+] 15226   [model.py:682]\n",
      "| endurance | INFO | Nov-26-23:46:27 | Densify: 22328->32239   [solver.py:914]\n",
      "| endurance | INFO | Nov-26-23:46:27 | Prune: 54   [model.py:734]\n",
      "| endurance | INFO | Nov-26-23:46:27 | Prune: 32239->32185   [solver.py:923]\n",
      " 75%|███████▌  | 1503/2000 [00:53<01:28,  5.59it/s]| endurance | INFO | Nov-26-23:46:41 | Prune: 101   [model.py:734]\n",
      "| endurance | INFO | Nov-26-23:46:41 | Prune: 32185->32084   [solver.py:923]\n",
      " 90%|█████████ | 1806/2000 [01:06<00:08, 24.00it/s]| endurance | INFO | Nov-26-23:46:54 | Prune: 126   [model.py:734]\n",
      "| endurance | INFO | Nov-26-23:46:54 | Prune: 32084->31958   [solver.py:923]\n",
      "100%|██████████| 2000/2000 [01:15<00:00, 26.40it/s]\n",
      "| endurance | INFO | Nov-26-23:47:03 | Training time: 75.763 seconds i.e. 1.263 minutes   [solver.py:1038]\n",
      "| endurance | INFO | Nov-26-23:47:03 | Saving model...   [solver.py:1043]\n",
      "| endurance | INFO | Nov-26-23:47:03 | [_xyz:95.9K] [_rotation:127.8K] [_scaling:95.9K] [_opacity:32.0K] [_features_dc:95.9K] [_features_rest:287.6K] [_w_correction_dc:0.0K] [_w_correction_rest:0.0K] [_features_localcode:0.0K] [template.voxel_deformer.voxel_w_correction:1572.9K] [template.voxel_deformer.additional_correction:262.1K]    [model.py:261]\n"
     ]
    },
    {
     "name": "stdout",
     "output_type": "stream",
     "text": [
      "Using predefined pose: da_pose\n"
     ]
    },
    {
     "name": "stderr",
     "output_type": "stream",
     "text": [
      "| endurance | INFO | Nov-26-23:47:07 | Init with 6890 Gaussians   [solver.py:225]\n",
      "| endurance | INFO | Nov-26-23:47:07 | After loading:   [solver.py:174]\n",
      "| endurance | INFO | Nov-26-23:47:07 | [_xyz:95.9K] [_rotation:127.8K] [_scaling:95.9K] [_opacity:32.0K] [_features_dc:95.9K] [_features_rest:287.6K] [_w_correction_dc:0.0K] [_w_correction_rest:0.0K] [_features_localcode:0.0K] [template.voxel_deformer.voxel_w_correction:1572.9K] [template.voxel_deformer.additional_correction:262.1K]    [model.py:261]\n",
      "| endurance | INFO | Nov-26-23:47:07 | Model has 31958 points.   [solver.py:1180]\n",
      "| endurance | INFO | Nov-26-23:47:07 | FPS eval using active_sph_order: 1   [solver.py:1187]\n",
      "| endurance | WARNING | Nov-26-23:47:07 | Lossy conversion from float32 to uint8. Range [0, 1]. Convert image to uint8 prior to saving to suppress this warning.   [util.py:42]\n",
      "| endurance | INFO | Nov-26-23:47:07 | Start FPS test...   [solver.py:1204]\n",
      "100%|██████████| 1140/1140 [00:06<00:00, 175.15it/s]\n",
      "| endurance | INFO | Nov-26-23:47:14 | FPS: 175.115387202974   [solver.py:1223]\n"
     ]
    },
    {
     "data": {
      "text/plain": [
       "175.115387202974"
      ]
     },
     "execution_count": 2,
     "metadata": {},
     "output_type": "execute_result"
    }
   ],
   "source": [
    "# Optimize and eval FPS\n",
    "data_provider, trainset = solver.prepare_real_seq(seq_name, dataset_mode, split=\"train\")\n",
    "_, optimized_seq = solver.run(data_provider)\n",
    "solver.eval_fps(solver.load_saved_model(), optimized_seq, rounds=10)"
   ]
  },
  {
   "cell_type": "code",
   "execution_count": 3,
   "metadata": {},
   "outputs": [
    {
     "name": "stdout",
     "output_type": "stream",
     "text": [
      "Using predefined pose: da_pose\n"
     ]
    },
    {
     "name": "stderr",
     "output_type": "stream",
     "text": [
      "| endurance | INFO | Nov-26-23:47:17 | Init with 6890 Gaussians   [solver.py:225]\n",
      "| endurance | INFO | Nov-26-23:47:17 | After loading:   [solver.py:174]\n",
      "| endurance | INFO | Nov-26-23:47:17 | [_xyz:95.9K] [_rotation:127.8K] [_scaling:95.9K] [_opacity:32.0K] [_features_dc:95.9K] [_features_rest:287.6K] [_w_correction_dc:0.0K] [_w_correction_rest:0.0K] [_features_localcode:0.0K] [template.voxel_deformer.voxel_w_correction:1572.9K] [template.voxel_deformer.additional_correction:262.1K]    [model.py:261]\n"
     ]
    },
    {
     "name": "stdout",
     "output_type": "stream",
     "text": [
      "Viz training...\n",
      "Viz spinning...\n",
      "Viz novel cano-pose...\n",
      "Viz novel t-pose...\n",
      "Viz novel da-pose...\n",
      "Viz novel first-frame...\n",
      "Viz novel seq...\n"
     ]
    }
   ],
   "source": [
    "# Visualize\n",
    "viz_human_all(solver, optimized_seq, training_skip=1)"
   ]
  },
  {
   "cell_type": "code",
   "execution_count": 4,
   "metadata": {},
   "outputs": [
    {
     "name": "stdout",
     "output_type": "stream",
     "text": [
      "Using predefined pose: da_pose\n"
     ]
    },
    {
     "name": "stderr",
     "output_type": "stream",
     "text": [
      "| endurance | INFO | Nov-26-23:48:23 | Init with 6890 Gaussians   [solver.py:225]\n",
      "| endurance | INFO | Nov-26-23:48:23 | After loading:   [solver.py:174]\n",
      "| endurance | INFO | Nov-26-23:48:23 | [_xyz:95.9K] [_rotation:127.8K] [_scaling:95.9K] [_opacity:32.0K] [_features_dc:95.9K] [_features_rest:287.6K] [_w_correction_dc:0.0K] [_w_correction_rest:0.0K] [_features_localcode:0.0K] [template.voxel_deformer.voxel_w_correction:1572.9K] [template.voxel_deformer.additional_correction:262.1K]    [model.py:261]\n",
      "100%|██████████| 55/55 [00:01<00:00, 43.66it/s]\n",
      "/home/ray/anaconda3/envs/gart/lib/python3.9/site-packages/torchmetrics/utilities/prints.py:62: FutureWarning: Importing `PeakSignalNoiseRatio` from `torchmetrics` was deprecated and will be removed in 2.0. Import `PeakSignalNoiseRatio` from `torchmetrics.image` instead.\n",
      "  _future_warning(\n",
      "/home/ray/anaconda3/envs/gart/lib/python3.9/site-packages/torchmetrics/utilities/prints.py:62: FutureWarning: Importing `StructuralSimilarityIndexMeasure` from `torchmetrics` was deprecated and will be removed in 2.0. Import `StructuralSimilarityIndexMeasure` from `torchmetrics.image` instead.\n",
      "  _future_warning(\n",
      "| endurance | INFO | Nov-26-23:48:25 | Saving images [TTO=True] [N=55]...   [test_func.py:211]\n",
      "55it [04:00,  4.38s/it]\n",
      "| endurance | INFO | Nov-26-23:52:26 | Image size: 540x1620   [test_func.py:342]\n",
      "| endurance | INFO | Nov-26-23:52:27 | Eval with instant-avatar Evaluator from their original code release   [test_func.py:354]\n",
      "| endurance | INFO | Nov-26-23:52:27 | [test_tto] PSNR: 30.49   [test_func.py:359]\n",
      "| endurance | INFO | Nov-26-23:52:27 | [test_tto] SSIM: 0.9783   [test_func.py:364]\n",
      "| endurance | INFO | Nov-26-23:52:27 | [test_tto] LPIPS: 0.0335   [test_func.py:369]\n"
     ]
    }
   ],
   "source": [
    "# test with pose optimization (see Instant-Avatar testtime-optimization https://github.com/tijiang13/InstantAvatar)\n",
    "test(\n",
    "    solver,\n",
    "    seq_name=seq_name,\n",
    "    tto_flag=True,\n",
    "    tto_step=160,\n",
    "    tto_decay=50,\n",
    "    dataset_mode=dataset_mode,\n",
    "    pose_base_lr=3e-3,\n",
    "    pose_rest_lr=3e-3,\n",
    "    trans_lr=3e-3,\n",
    ")"
   ]
  },
  {
   "cell_type": "markdown",
   "metadata": {},
   "source": [
    "## ZJU-MoCap"
   ]
  },
  {
   "cell_type": "code",
   "execution_count": 5,
   "metadata": {},
   "outputs": [
    {
     "name": "stderr",
     "output_type": "stream",
     "text": [
      "| endurance | INFO | Nov-26-23:52:27 | Prepare real seq: my_377   [get_data.py:24]\n"
     ]
    },
    {
     "name": "stdout",
     "output_type": "stream",
     "text": [
      "The autoreload extension is already loaded. To reload it, use:\n",
      "  %reload_ext autoreload\n",
      "WARNING: You are using a SMPL model, with only 10 shape coefficients.\n",
      "num_betas=10, shapedirs.shape=(6890, 3, 10), self.SHAPE_SPACE_DIM=300\n"
     ]
    },
    {
     "name": "stderr",
     "output_type": "stream",
     "text": [
      "100%|██████████| 100/100 [00:04<00:00, 23.80it/s]\n"
     ]
    },
    {
     "name": "stdout",
     "output_type": "stream",
     "text": [
      "WARNING: You are using a SMPL model, with only 10 shape coefficients.\n",
      "num_betas=10, shapedirs.shape=(6890, 3, 10), self.SHAPE_SPACE_DIM=300\n",
      "Using predefined pose: da_pose\n"
     ]
    },
    {
     "name": "stderr",
     "output_type": "stream",
     "text": [
      "| endurance | INFO | Nov-26-23:52:34 | Init with 6890 Gaussians   [solver.py:225]\n",
      "| endurance | INFO | Nov-26-23:52:34 | Start training at 1701060754.8636234   [solver.py:797]\n",
      " 13%|█▎        | 401/3000 [00:11<01:09, 37.48it/s]| endurance | INFO | Nov-26-23:52:46 | Densify: Clone[+] 740, Split[+] 7284   [model.py:682]\n",
      "| endurance | INFO | Nov-26-23:52:46 | Densify: 6890->11272   [solver.py:914]\n",
      "| endurance | INFO | Nov-26-23:52:46 | Prune: 438   [model.py:734]\n",
      "| endurance | INFO | Nov-26-23:52:46 | Prune: 11272->10834   [solver.py:923]\n",
      " 27%|██▋       | 801/3000 [00:25<01:03, 34.78it/s]| endurance | INFO | Nov-26-23:53:00 | Densify: Clone[+] 1520, Split[+] 8596   [model.py:682]\n",
      "| endurance | INFO | Nov-26-23:53:00 | Densify: 10834->16652   [solver.py:914]\n",
      "| endurance | INFO | Nov-26-23:53:00 | Prune: 209   [model.py:734]\n",
      "| endurance | INFO | Nov-26-23:53:00 | Prune: 16652->16443   [solver.py:923]\n",
      " 40%|████      | 1201/3000 [00:39<00:56, 32.07it/s]| endurance | INFO | Nov-26-23:53:14 | Densify: Clone[+] 3167, Split[+] 10374   [model.py:682]\n",
      "| endurance | INFO | Nov-26-23:53:14 | Densify: 16443->24797   [solver.py:914]\n",
      "| endurance | INFO | Nov-26-23:53:14 | Prune: 93   [model.py:734]\n",
      "| endurance | INFO | Nov-26-23:53:14 | Prune: 24797->24704   [solver.py:923]\n",
      " 53%|█████▎    | 1603/3000 [00:55<00:49, 28.18it/s]| endurance | INFO | Nov-26-23:53:30 | Densify: Clone[+] 5882, Split[+] 10416   [model.py:682]\n",
      "| endurance | INFO | Nov-26-23:53:30 | Densify: 24704->35794   [solver.py:914]\n",
      "| endurance | INFO | Nov-26-23:53:30 | Prune: 61   [model.py:734]\n",
      "| endurance | INFO | Nov-26-23:53:30 | Prune: 35794->35733   [solver.py:923]\n",
      " 67%|██████▋   | 1999/3000 [01:12<00:43, 22.97it/s]| endurance | INFO | Nov-26-23:53:49 | active_sph_order: 1   [solver.py:814]\n",
      "| endurance | INFO | Nov-26-23:53:49 | Reset opacity to 0.05   [model.py:849]\n",
      " 67%|██████▋   | 2005/3000 [01:14<02:34,  6.43it/s]| endurance | INFO | Nov-26-23:53:49 | Densify: Clone[+] 8345, Split[+] 10788   [model.py:682]\n",
      "| endurance | INFO | Nov-26-23:53:49 | Densify: 35733->49472   [solver.py:914]\n",
      "| endurance | INFO | Nov-26-23:53:49 | Prune: 4598   [model.py:734]\n",
      "| endurance | INFO | Nov-26-23:53:49 | Prune: 49472->44874   [solver.py:923]\n",
      " 80%|████████  | 2406/3000 [01:35<00:31, 18.65it/s]| endurance | INFO | Nov-26-23:54:10 | Densify: Clone[+] 2445, Split[+] 20608   [model.py:682]\n",
      "| endurance | INFO | Nov-26-23:54:10 | Densify: 44874->57623   [solver.py:914]\n",
      "| endurance | INFO | Nov-26-23:54:10 | Prune: 1060   [model.py:734]\n",
      "| endurance | INFO | Nov-26-23:54:10 | Prune: 57623->56563   [solver.py:923]\n",
      " 94%|█████████▎| 2806/3000 [02:02<00:12, 15.82it/s]| endurance | INFO | Nov-26-23:54:37 | Prune: 1753   [model.py:734]\n",
      "| endurance | INFO | Nov-26-23:54:37 | Prune: 56563->54810   [solver.py:923]\n",
      "100%|██████████| 3000/3000 [02:15<00:00, 22.14it/s]\n",
      "| endurance | INFO | Nov-26-23:54:50 | Training time: 135.510 seconds i.e. 2.259 minutes   [solver.py:1038]\n",
      "| endurance | INFO | Nov-26-23:54:50 | Saving model...   [solver.py:1043]\n",
      "| endurance | INFO | Nov-26-23:54:50 | [_xyz:164.4K] [_rotation:219.2K] [_scaling:164.4K] [_opacity:54.8K] [_features_dc:164.4K] [_features_rest:493.3K] [_w_correction_dc:0.0K] [_w_correction_rest:0.0K] [_features_localcode:0.0K] [template.voxel_deformer.voxel_w_correction:1572.9K] [template.voxel_deformer.additional_correction:262.1K]    [model.py:261]\n"
     ]
    },
    {
     "name": "stdout",
     "output_type": "stream",
     "text": [
      "WARNING: You are using a SMPL model, with only 10 shape coefficients.\n",
      "num_betas=10, shapedirs.shape=(6890, 3, 10), self.SHAPE_SPACE_DIM=300\n",
      "Using predefined pose: da_pose\n"
     ]
    },
    {
     "name": "stderr",
     "output_type": "stream",
     "text": [
      "| endurance | INFO | Nov-26-23:54:53 | Init with 6890 Gaussians   [solver.py:225]\n",
      "| endurance | INFO | Nov-26-23:54:53 | After loading:   [solver.py:174]\n",
      "| endurance | INFO | Nov-26-23:54:53 | [_xyz:164.4K] [_rotation:219.2K] [_scaling:164.4K] [_opacity:54.8K] [_features_dc:164.4K] [_features_rest:493.3K] [_w_correction_dc:0.0K] [_w_correction_rest:0.0K] [_features_localcode:0.0K] [template.voxel_deformer.voxel_w_correction:1572.9K] [template.voxel_deformer.additional_correction:262.1K]    [model.py:261]\n",
      "| endurance | INFO | Nov-26-23:54:53 | Model has 54810 points.   [solver.py:1180]\n",
      "| endurance | INFO | Nov-26-23:54:53 | FPS eval using active_sph_order: 1   [solver.py:1187]\n",
      "| endurance | WARNING | Nov-26-23:54:53 | Lossy conversion from float32 to uint8. Range [0.030969364568591118, 1.032999038696289]. Convert image to uint8 prior to saving to suppress this warning.   [util.py:42]\n",
      "| endurance | INFO | Nov-26-23:54:53 | Start FPS test...   [solver.py:1204]\n",
      "100%|██████████| 1000/1000 [00:06<00:00, 159.25it/s]\n",
      "| endurance | INFO | Nov-26-23:54:59 | FPS: 159.21495482631568   [solver.py:1223]\n"
     ]
    },
    {
     "name": "stdout",
     "output_type": "stream",
     "text": [
      "WARNING: You are using a SMPL model, with only 10 shape coefficients.\n",
      "num_betas=10, shapedirs.shape=(6890, 3, 10), self.SHAPE_SPACE_DIM=300\n",
      "Using predefined pose: da_pose\n"
     ]
    },
    {
     "name": "stderr",
     "output_type": "stream",
     "text": [
      "| endurance | INFO | Nov-26-23:55:02 | Init with 6890 Gaussians   [solver.py:225]\n",
      "| endurance | INFO | Nov-26-23:55:02 | After loading:   [solver.py:174]\n",
      "| endurance | INFO | Nov-26-23:55:02 | [_xyz:164.4K] [_rotation:219.2K] [_scaling:164.4K] [_opacity:54.8K] [_features_dc:164.4K] [_features_rest:493.3K] [_w_correction_dc:0.0K] [_w_correction_rest:0.0K] [_features_localcode:0.0K] [template.voxel_deformer.voxel_w_correction:1572.9K] [template.voxel_deformer.additional_correction:262.1K]    [model.py:261]\n"
     ]
    },
    {
     "name": "stdout",
     "output_type": "stream",
     "text": [
      "Viz training...\n",
      "Viz spinning...\n",
      "Viz novel cano-pose...\n",
      "Viz novel t-pose...\n",
      "Viz novel da-pose...\n",
      "Viz novel first-frame...\n",
      "Viz novel seq...\n",
      "WARNING: You are using a SMPL model, with only 10 shape coefficients.\n",
      "num_betas=10, shapedirs.shape=(6890, 3, 10), self.SHAPE_SPACE_DIM=300\n",
      "Using predefined pose: da_pose\n"
     ]
    },
    {
     "name": "stderr",
     "output_type": "stream",
     "text": [
      "| endurance | INFO | Nov-26-23:55:51 | Init with 6890 Gaussians   [solver.py:225]\n",
      "| endurance | INFO | Nov-26-23:55:51 | After loading:   [solver.py:174]\n",
      "| endurance | INFO | Nov-26-23:55:51 | [_xyz:164.4K] [_rotation:219.2K] [_scaling:164.4K] [_opacity:54.8K] [_features_dc:164.4K] [_features_rest:493.3K] [_w_correction_dc:0.0K] [_w_correction_rest:0.0K] [_features_localcode:0.0K] [template.voxel_deformer.voxel_w_correction:1572.9K] [template.voxel_deformer.additional_correction:262.1K]    [model.py:261]\n"
     ]
    },
    {
     "name": "stdout",
     "output_type": "stream",
     "text": [
      "WARNING: You are using a SMPL model, with only 10 shape coefficients.\n",
      "num_betas=10, shapedirs.shape=(6890, 3, 10), self.SHAPE_SPACE_DIM=300\n"
     ]
    },
    {
     "name": "stderr",
     "output_type": "stream",
     "text": [
      "/home/ray/anaconda3/envs/gart/lib/python3.9/site-packages/torchvision/models/_utils.py:208: UserWarning: The parameter 'pretrained' is deprecated since 0.13 and may be removed in the future, please use 'weights' instead.\n",
      "  warnings.warn(\n",
      "/home/ray/anaconda3/envs/gart/lib/python3.9/site-packages/torchvision/models/_utils.py:223: UserWarning: Arguments other than a weight enum or `None` for 'weights' are deprecated since 0.13 and may be removed in the future. The current behavior is equivalent to passing `weights=VGG16_Weights.IMAGENET1K_V1`. You can also use `weights=VGG16_Weights.DEFAULT` to get the most up-to-date weights.\n",
      "  warnings.warn(msg)\n",
      "| endurance | INFO | Nov-26-23:55:55 | Saving images [TTO=True] [N=374]...   [test_func.py:211]\n",
      "374it [16:33,  2.66s/it]\n",
      "| endurance | INFO | Nov-27-00:12:31 | Image size: 512x1536   [test_func.py:342]\n",
      "| endurance | INFO | Nov-27-00:12:59 | Eval with instant-nvr Evaluator from their original code release   [test_func.py:354]\n",
      "| endurance | INFO | Nov-27-00:12:59 | [test_tto] PSNR: 33.66   [test_func.py:359]\n",
      "| endurance | INFO | Nov-27-00:12:59 | [test_tto] SSIM: 0.9869   [test_func.py:364]\n",
      "| endurance | INFO | Nov-27-00:12:59 | [test_tto] LPIPS: 0.0161   [test_func.py:369]\n"
     ]
    }
   ],
   "source": [
    "%load_ext autoreload\n",
    "%autoreload 2\n",
    "import os, os.path as osp\n",
    "from solver import TGFitter\n",
    "from datetime import datetime\n",
    "import torch\n",
    "from test_utils import test\n",
    "from viz_utils import viz_human_all\n",
    "\n",
    "torch.cuda.empty_cache()\n",
    "dataset_mode = \"zju\"\n",
    "seq_name = \"my_377\"\n",
    "\n",
    "profile_fn = \"./profiles/zju/zju_3m.yaml\"\n",
    "\n",
    "base_name = \"example_release\"\n",
    "log_dir = f\"./logs/{base_name}/seq={seq_name}_prof={osp.basename(profile_fn).split('.')[0]}_data={dataset_mode}\"\n",
    "\n",
    "solver = TGFitter(\n",
    "    log_dir=log_dir,\n",
    "    profile_fn=profile_fn,\n",
    "    mode=\"human\",\n",
    "    template_model_path=\"./data/smpl-meta/SMPL_NEUTRAL.pkl\",\n",
    "    device=torch.device(\"cuda:0\"),\n",
    ")\n",
    "\n",
    "data_provider, trainset = solver.prepare_real_seq(seq_name, dataset_mode, split=\"train\")\n",
    "_, optimized_seq = solver.run(data_provider)\n",
    "solver.eval_fps(solver.load_saved_model(), optimized_seq, rounds=10)\n",
    "\n",
    "viz_human_all(solver, optimized_seq, training_skip=1)\n",
    "\n",
    "test(\n",
    "    solver,\n",
    "    seq_name=seq_name,\n",
    "    tto_flag=True,\n",
    "    tto_step=50,\n",
    "    tto_decay=10,\n",
    "    dataset_mode=dataset_mode,\n",
    "    pose_base_lr=3e-3,\n",
    "    pose_rest_lr=3e-3,\n",
    "    trans_lr=3e-3,\n",
    ")"
   ]
  },
  {
   "cell_type": "markdown",
   "metadata": {},
   "source": [
    "## UBC"
   ]
  },
  {
   "cell_type": "code",
   "execution_count": 8,
   "metadata": {},
   "outputs": [
    {
     "name": "stderr",
     "output_type": "stream",
     "text": [
      "| endurance | INFO | Nov-27-00:42:31 | Prepare real seq: ourpose_ubc_91+bCFG1jOS   [get_data.py:24]\n"
     ]
    },
    {
     "name": "stdout",
     "output_type": "stream",
     "text": [
      "The autoreload extension is already loaded. To reload it, use:\n",
      "  %reload_ext autoreload\n"
     ]
    },
    {
     "name": "stderr",
     "output_type": "stream",
     "text": [
      "100%|██████████| 84/84 [00:01<00:00, 54.03it/s]\n",
      "100%|██████████| 84/84 [00:00<00:00, 464.48it/s]\n",
      "100%|██████████| 84/84 [00:00<00:00, 52218.99it/s]\n"
     ]
    },
    {
     "name": "stdout",
     "output_type": "stream",
     "text": [
      "Using predefined pose: t_pose\n"
     ]
    },
    {
     "name": "stderr",
     "output_type": "stream",
     "text": [
      "| endurance | INFO | Nov-27-00:42:36 | Init with 27554 Gaussians   [solver.py:225]\n",
      "| endurance | INFO | Nov-27-00:42:36 | Start training at 1701063756.9229877   [solver.py:797]\n",
      "  7%|▋         | 598/8000 [00:27<05:07, 24.07it/s]| endurance | INFO | Nov-27-00:43:04 | Densify: Clone[+] 0, Split[+] 1072   [model.py:682]\n",
      "| endurance | INFO | Nov-27-00:43:04 | Densify: 27554->28090   [solver.py:914]\n",
      "| endurance | INFO | Nov-27-00:43:04 | Prune: 68   [model.py:734]\n",
      "| endurance | INFO | Nov-27-00:43:04 | Prune: 28090->28022   [solver.py:923]\n",
      "  9%|▉         | 700/8000 [00:31<05:05, 23.91it/s]| endurance | INFO | Nov-27-00:43:08 | Densify: Clone[+] 1, Split[+] 1430   [model.py:682]\n",
      "| endurance | INFO | Nov-27-00:43:08 | Densify: 28022->28738   [solver.py:914]\n",
      " 10%|▉         | 799/8000 [00:35<05:03, 23.73it/s]| endurance | INFO | Nov-27-00:43:12 | Densify: Clone[+] 0, Split[+] 1634   [model.py:682]\n",
      "| endurance | INFO | Nov-27-00:43:12 | Densify: 28738->29555   [solver.py:914]\n",
      " 11%|█         | 898/8000 [00:40<05:02, 23.46it/s]| endurance | INFO | Nov-27-00:43:17 | Densify: Clone[+] 0, Split[+] 1664   [model.py:682]\n",
      "| endurance | INFO | Nov-27-00:43:17 | Densify: 29555->30387   [solver.py:914]\n",
      "| endurance | INFO | Nov-27-00:43:17 | Prune: 87   [model.py:734]\n",
      "| endurance | INFO | Nov-27-00:43:17 | Prune: 30387->30300   [solver.py:923]\n",
      " 12%|█▎        | 1000/8000 [00:47<43:05,  2.71it/s]| endurance | INFO | Nov-27-00:43:24 | Densify: Clone[+] 0, Split[+] 1574   [model.py:682]\n",
      "| endurance | INFO | Nov-27-00:43:24 | Densify: 30300->31087   [solver.py:914]\n",
      " 14%|█▎        | 1098/8000 [00:52<05:05, 22.60it/s]| endurance | INFO | Nov-27-00:43:29 | Densify: Clone[+] 1, Split[+] 1662   [model.py:682]\n",
      "| endurance | INFO | Nov-27-00:43:29 | Densify: 31087->31919   [solver.py:914]\n",
      " 15%|█▌        | 1200/8000 [00:56<05:05, 22.23it/s]| endurance | INFO | Nov-27-00:43:33 | Densify: Clone[+] 0, Split[+] 1470   [model.py:682]\n",
      "| endurance | INFO | Nov-27-00:43:33 | Densify: 31919->32654   [solver.py:914]\n",
      "| endurance | INFO | Nov-27-00:43:33 | Prune: 92   [model.py:734]\n",
      "| endurance | INFO | Nov-27-00:43:33 | Prune: 32654->32562   [solver.py:923]\n",
      " 16%|█▌        | 1299/8000 [01:01<05:06, 21.83it/s]| endurance | INFO | Nov-27-00:43:38 | Densify: Clone[+] 0, Split[+] 1510   [model.py:682]\n",
      "| endurance | INFO | Nov-27-00:43:38 | Densify: 32562->33317   [solver.py:914]\n",
      " 17%|█▋        | 1398/8000 [01:05<05:04, 21.71it/s]| endurance | INFO | Nov-27-00:43:42 | Densify: Clone[+] 0, Split[+] 1350   [model.py:682]\n",
      "| endurance | INFO | Nov-27-00:43:42 | Densify: 33317->33992   [solver.py:914]\n",
      " 19%|█▉        | 1500/8000 [01:12<26:54,  4.03it/s]| endurance | INFO | Nov-27-00:43:49 | Densify: Clone[+] 0, Split[+] 1158   [model.py:682]\n",
      "| endurance | INFO | Nov-27-00:43:49 | Densify: 33992->34571   [solver.py:914]\n",
      "| endurance | INFO | Nov-27-00:43:49 | Prune: 38   [model.py:734]\n",
      "| endurance | INFO | Nov-27-00:43:49 | Prune: 34571->34533   [solver.py:923]\n",
      " 20%|██        | 1600/8000 [01:17<05:00, 21.29it/s]| endurance | INFO | Nov-27-00:43:54 | Densify: Clone[+] 0, Split[+] 1040   [model.py:682]\n",
      "| endurance | INFO | Nov-27-00:43:54 | Densify: 34533->35053   [solver.py:914]\n",
      " 21%|██        | 1699/8000 [01:21<04:56, 21.27it/s]| endurance | INFO | Nov-27-00:43:58 | Densify: Clone[+] 1, Split[+] 1048   [model.py:682]\n",
      "| endurance | INFO | Nov-27-00:43:58 | Densify: 35053->35578   [solver.py:914]\n",
      " 22%|██▏       | 1798/8000 [01:26<04:58, 20.79it/s]| endurance | INFO | Nov-27-00:44:03 | Densify: Clone[+] 3, Split[+] 1058   [model.py:682]\n",
      "| endurance | INFO | Nov-27-00:44:03 | Densify: 35578->36110   [solver.py:914]\n",
      "| endurance | INFO | Nov-27-00:44:03 | Prune: 86   [model.py:734]\n",
      "| endurance | INFO | Nov-27-00:44:03 | Prune: 36110->36024   [solver.py:923]\n",
      " 24%|██▎       | 1899/8000 [01:31<04:51, 20.95it/s]| endurance | INFO | Nov-27-00:44:08 | Densify: Clone[+] 3, Split[+] 778   [model.py:682]\n",
      "| endurance | INFO | Nov-27-00:44:08 | Densify: 36024->36416   [solver.py:914]\n",
      " 25%|██▍       | 1999/8000 [01:36<05:03, 19.79it/s]| endurance | INFO | Nov-27-00:44:15 | Densify: Clone[+] 2, Split[+] 736   [model.py:682]\n",
      "| endurance | INFO | Nov-27-00:44:15 | Densify: 36416->36786   [solver.py:914]\n",
      " 26%|██▌       | 2098/8000 [01:43<04:51, 20.25it/s]| endurance | INFO | Nov-27-00:44:20 | Densify: Clone[+] 0, Split[+] 776   [model.py:682]\n",
      "| endurance | INFO | Nov-27-00:44:20 | Densify: 36786->37174   [solver.py:914]\n",
      "| endurance | INFO | Nov-27-00:44:20 | Prune: 0   [model.py:734]\n",
      "| endurance | INFO | Nov-27-00:44:20 | Prune: 37174->37174   [solver.py:923]\n",
      " 28%|██▊       | 2200/8000 [01:48<04:58, 19.43it/s]| endurance | INFO | Nov-27-00:44:25 | Densify: Clone[+] 0, Split[+] 654   [model.py:682]\n",
      "| endurance | INFO | Nov-27-00:44:25 | Densify: 37174->37501   [solver.py:914]\n",
      " 29%|██▊       | 2299/8000 [01:53<04:51, 19.54it/s]| endurance | INFO | Nov-27-00:44:30 | Densify: Clone[+] 0, Split[+] 796   [model.py:682]\n",
      "| endurance | INFO | Nov-27-00:44:30 | Densify: 37501->37899   [solver.py:914]\n",
      " 30%|██▉       | 2399/8000 [01:58<04:54, 19.04it/s]| endurance | INFO | Nov-27-00:44:35 | Densify: Clone[+] 0, Split[+] 534   [model.py:682]\n",
      "| endurance | INFO | Nov-27-00:44:35 | Densify: 37899->38166   [solver.py:914]\n",
      "| endurance | INFO | Nov-27-00:44:35 | Prune: 1   [model.py:734]\n",
      "| endurance | INFO | Nov-27-00:44:35 | Prune: 38166->38165   [solver.py:923]\n",
      " 31%|███▏      | 2500/8000 [02:06<35:12,  2.60it/s]| endurance | INFO | Nov-27-00:44:43 | Densify: Clone[+] 0, Split[+] 564   [model.py:682]\n",
      "| endurance | INFO | Nov-27-00:44:43 | Densify: 38165->38447   [solver.py:914]\n",
      " 32%|███▏      | 2599/8000 [02:11<04:39, 19.33it/s]| endurance | INFO | Nov-27-00:44:48 | Densify: Clone[+] 0, Split[+] 500   [model.py:682]\n",
      "| endurance | INFO | Nov-27-00:44:48 | Densify: 38447->38697   [solver.py:914]\n",
      " 34%|███▎      | 2699/8000 [02:16<04:43, 18.72it/s]| endurance | INFO | Nov-27-00:44:53 | Densify: Clone[+] 0, Split[+] 442   [model.py:682]\n",
      "| endurance | INFO | Nov-27-00:44:53 | Densify: 38697->38918   [solver.py:914]\n",
      "| endurance | INFO | Nov-27-00:44:53 | Prune: 1   [model.py:734]\n",
      "| endurance | INFO | Nov-27-00:44:53 | Prune: 38918->38917   [solver.py:923]\n",
      " 35%|███▍      | 2799/8000 [02:21<04:30, 19.24it/s]| endurance | INFO | Nov-27-00:44:58 | Densify: Clone[+] 0, Split[+] 374   [model.py:682]\n",
      "| endurance | INFO | Nov-27-00:44:58 | Densify: 38917->39104   [solver.py:914]\n",
      " 36%|███▌      | 2899/8000 [02:26<04:26, 19.13it/s]| endurance | INFO | Nov-27-00:45:04 | Densify: Clone[+] 3, Split[+] 426   [model.py:682]\n",
      "| endurance | INFO | Nov-27-00:45:04 | Densify: 39104->39320   [solver.py:914]\n",
      " 37%|███▋      | 2999/8000 [02:32<04:23, 18.98it/s]| endurance | INFO | Nov-27-00:45:09 | Reset opacity to 0.01   [model.py:849]\n",
      "| endurance | INFO | Nov-27-00:45:11 | active_sph_order: 1   [solver.py:814]\n",
      "| endurance | INFO | Nov-27-00:45:11 | Densify: Clone[+] 2, Split[+] 428   [model.py:682]\n",
      "| endurance | INFO | Nov-27-00:45:11 | Densify: 39320->39536   [solver.py:914]\n",
      "| endurance | INFO | Nov-27-00:45:11 | Prune: 1030   [model.py:734]\n",
      "| endurance | INFO | Nov-27-00:45:11 | Prune: 39536->38506   [solver.py:923]\n",
      " 39%|███▊      | 3099/8000 [02:39<04:40, 17.49it/s]| endurance | INFO | Nov-27-00:45:16 | Densify: Clone[+] 0, Split[+] 76   [model.py:682]\n",
      "| endurance | INFO | Nov-27-00:45:16 | Densify: 38506->38544   [solver.py:914]\n",
      " 40%|███▉      | 3199/8000 [02:45<04:51, 16.49it/s]| endurance | INFO | Nov-27-00:45:22 | Densify: Clone[+] 0, Split[+] 222   [model.py:682]\n",
      "| endurance | INFO | Nov-27-00:45:22 | Densify: 38544->38655   [solver.py:914]\n",
      " 41%|████      | 3299/8000 [02:51<04:34, 17.11it/s]| endurance | INFO | Nov-27-00:45:28 | Densify: Clone[+] 0, Split[+] 288   [model.py:682]\n",
      "| endurance | INFO | Nov-27-00:45:28 | Densify: 38655->38799   [solver.py:914]\n",
      "| endurance | INFO | Nov-27-00:45:28 | Prune: 1553   [model.py:734]\n",
      "| endurance | INFO | Nov-27-00:45:28 | Prune: 38799->37246   [solver.py:923]\n",
      " 42%|████▏     | 3399/8000 [02:56<04:21, 17.61it/s]| endurance | INFO | Nov-27-00:45:33 | Densify: Clone[+] 0, Split[+] 286   [model.py:682]\n",
      "| endurance | INFO | Nov-27-00:45:33 | Densify: 37246->37389   [solver.py:914]\n",
      " 44%|████▎     | 3499/8000 [03:02<04:09, 18.03it/s]| endurance | INFO | Nov-27-00:45:41 | Densify: Clone[+] 0, Split[+] 238   [model.py:682]\n",
      "| endurance | INFO | Nov-27-00:45:41 | Densify: 37389->37508   [solver.py:914]\n",
      " 45%|████▍     | 3599/8000 [03:10<04:27, 16.44it/s]| endurance | INFO | Nov-27-00:45:47 | Densify: Clone[+] 0, Split[+] 304   [model.py:682]\n",
      "| endurance | INFO | Nov-27-00:45:47 | Densify: 37508->37660   [solver.py:914]\n",
      "| endurance | INFO | Nov-27-00:45:47 | Prune: 1217   [model.py:734]\n",
      "| endurance | INFO | Nov-27-00:45:47 | Prune: 37660->36443   [solver.py:923]\n",
      " 46%|████▌     | 3699/8000 [03:15<03:55, 18.27it/s]| endurance | INFO | Nov-27-00:45:52 | Densify: Clone[+] 0, Split[+] 252   [model.py:682]\n",
      "| endurance | INFO | Nov-27-00:45:52 | Densify: 36443->36569   [solver.py:914]\n",
      " 47%|████▋     | 3799/8000 [03:21<03:51, 18.13it/s]| endurance | INFO | Nov-27-00:45:58 | Densify: Clone[+] 0, Split[+] 218   [model.py:682]\n",
      "| endurance | INFO | Nov-27-00:45:58 | Densify: 36569->36678   [solver.py:914]\n",
      " 49%|████▊     | 3899/8000 [03:26<03:51, 17.69it/s]| endurance | INFO | Nov-27-00:46:04 | Densify: Clone[+] 0, Split[+] 208   [model.py:682]\n",
      "| endurance | INFO | Nov-27-00:46:04 | Densify: 36678->36782   [solver.py:914]\n",
      "| endurance | INFO | Nov-27-00:46:04 | Prune: 579   [model.py:734]\n",
      "| endurance | INFO | Nov-27-00:46:04 | Prune: 36782->36203   [solver.py:923]\n",
      " 50%|████▉     | 3999/8000 [03:32<03:39, 18.25it/s]| endurance | INFO | Nov-27-00:46:11 | Densify: Clone[+] 0, Split[+] 286   [model.py:682]\n",
      "| endurance | INFO | Nov-27-00:46:11 | Densify: 36203->36346   [solver.py:914]\n",
      " 51%|█████     | 4099/8000 [03:40<03:46, 17.24it/s]| endurance | INFO | Nov-27-00:46:17 | Densify: Clone[+] 0, Split[+] 194   [model.py:682]\n",
      "| endurance | INFO | Nov-27-00:46:17 | Densify: 36346->36443   [solver.py:914]\n",
      " 52%|█████▏    | 4199/8000 [03:45<03:33, 17.85it/s]| endurance | INFO | Nov-27-00:46:22 | Densify: Clone[+] 0, Split[+] 384   [model.py:682]\n",
      "| endurance | INFO | Nov-27-00:46:22 | Densify: 36443->36635   [solver.py:914]\n",
      "| endurance | INFO | Nov-27-00:46:22 | Prune: 318   [model.py:734]\n",
      "| endurance | INFO | Nov-27-00:46:22 | Prune: 36635->36317   [solver.py:923]\n",
      " 54%|█████▎    | 4299/8000 [03:51<03:19, 18.53it/s]| endurance | INFO | Nov-27-00:46:28 | Densify: Clone[+] 0, Split[+] 220   [model.py:682]\n",
      "| endurance | INFO | Nov-27-00:46:28 | Densify: 36317->36427   [solver.py:914]\n",
      " 55%|█████▍    | 4399/8000 [03:56<03:17, 18.26it/s]| endurance | INFO | Nov-27-00:46:33 | Densify: Clone[+] 0, Split[+] 220   [model.py:682]\n",
      "| endurance | INFO | Nov-27-00:46:33 | Densify: 36427->36537   [solver.py:914]\n",
      " 56%|█████▌    | 4499/8000 [04:02<03:10, 18.40it/s]| endurance | INFO | Nov-27-00:46:41 | Densify: Clone[+] 0, Split[+] 202   [model.py:682]\n",
      "| endurance | INFO | Nov-27-00:46:41 | Densify: 36537->36638   [solver.py:914]\n",
      "| endurance | INFO | Nov-27-00:46:41 | Prune: 195   [model.py:734]\n",
      "| endurance | INFO | Nov-27-00:46:41 | Prune: 36638->36443   [solver.py:923]\n",
      " 57%|█████▋    | 4599/8000 [04:09<03:06, 18.28it/s]| endurance | INFO | Nov-27-00:46:46 | Densify: Clone[+] 0, Split[+] 144   [model.py:682]\n",
      "| endurance | INFO | Nov-27-00:46:46 | Densify: 36443->36515   [solver.py:914]\n",
      " 59%|█████▊    | 4699/8000 [04:15<02:57, 18.57it/s]| endurance | INFO | Nov-27-00:46:52 | Densify: Clone[+] 1, Split[+] 284   [model.py:682]\n",
      "| endurance | INFO | Nov-27-00:46:52 | Densify: 36515->36658   [solver.py:914]\n",
      " 60%|█████▉    | 4799/8000 [04:20<03:00, 17.72it/s]| endurance | INFO | Nov-27-00:46:57 | Densify: Clone[+] 0, Split[+] 208   [model.py:682]\n",
      "| endurance | INFO | Nov-27-00:46:57 | Densify: 36658->36762   [solver.py:914]\n",
      "| endurance | INFO | Nov-27-00:46:57 | Prune: 43   [model.py:734]\n",
      "| endurance | INFO | Nov-27-00:46:57 | Prune: 36762->36719   [solver.py:923]\n",
      " 61%|██████    | 4899/8000 [04:26<02:52, 17.98it/s]| endurance | INFO | Nov-27-00:47:03 | Densify: Clone[+] 0, Split[+] 296   [model.py:682]\n",
      "| endurance | INFO | Nov-27-00:47:03 | Densify: 36719->36867   [solver.py:914]\n",
      " 62%|██████▏   | 4999/8000 [04:31<02:45, 18.19it/s]| endurance | INFO | Nov-27-00:47:08 | Reset opacity to 0.01   [model.py:849]\n",
      "| endurance | INFO | Nov-27-00:47:10 | active_sph_order: 2   [solver.py:814]\n",
      "| endurance | INFO | Nov-27-00:47:10 | Densify: Clone[+] 0, Split[+] 176   [model.py:682]\n",
      "| endurance | INFO | Nov-27-00:47:10 | Densify: 36867->36955   [solver.py:914]\n",
      " 64%|██████▎   | 5099/8000 [04:39<02:54, 16.66it/s]| endurance | INFO | Nov-27-00:47:16 | Densify: Clone[+] 0, Split[+] 8   [model.py:682]\n",
      "| endurance | INFO | Nov-27-00:47:16 | Densify: 36955->36959   [solver.py:914]\n",
      "| endurance | INFO | Nov-27-00:47:16 | Prune: 9   [model.py:734]\n",
      "| endurance | INFO | Nov-27-00:47:16 | Prune: 36959->36950   [solver.py:923]\n",
      " 65%|██████▍   | 5199/8000 [04:46<02:55, 15.95it/s]| endurance | INFO | Nov-27-00:47:23 | Densify: Clone[+] 0, Split[+] 62   [model.py:682]\n",
      "| endurance | INFO | Nov-27-00:47:23 | Densify: 36950->36981   [solver.py:914]\n",
      " 66%|██████▌   | 5299/8000 [04:52<02:47, 16.17it/s]| endurance | INFO | Nov-27-00:47:29 | Densify: Clone[+] 0, Split[+] 102   [model.py:682]\n",
      "| endurance | INFO | Nov-27-00:47:29 | Densify: 36981->37032   [solver.py:914]\n",
      " 67%|██████▋   | 5399/8000 [04:58<02:41, 16.12it/s]| endurance | INFO | Nov-27-00:47:35 | Densify: Clone[+] 0, Split[+] 100   [model.py:682]\n",
      "| endurance | INFO | Nov-27-00:47:35 | Densify: 37032->37082   [solver.py:914]\n",
      "| endurance | INFO | Nov-27-00:47:35 | Prune: 272   [model.py:734]\n",
      "| endurance | INFO | Nov-27-00:47:35 | Prune: 37082->36810   [solver.py:923]\n",
      " 69%|██████▊   | 5499/8000 [05:04<02:29, 16.78it/s]| endurance | INFO | Nov-27-00:47:43 | Densify: Clone[+] 0, Split[+] 142   [model.py:682]\n",
      "| endurance | INFO | Nov-27-00:47:43 | Densify: 36810->36881   [solver.py:914]\n",
      " 70%|██████▉   | 5599/8000 [05:12<02:25, 16.45it/s]| endurance | INFO | Nov-27-00:47:49 | Densify: Clone[+] 0, Split[+] 96   [model.py:682]\n",
      "| endurance | INFO | Nov-27-00:47:49 | Densify: 36881->36929   [solver.py:914]\n",
      " 71%|███████   | 5699/8000 [05:19<02:23, 16.04it/s]| endurance | INFO | Nov-27-00:47:56 | Densify: Clone[+] 0, Split[+] 158   [model.py:682]\n",
      "| endurance | INFO | Nov-27-00:47:56 | Densify: 36929->37008   [solver.py:914]\n",
      "| endurance | INFO | Nov-27-00:47:56 | Prune: 40   [model.py:734]\n",
      "| endurance | INFO | Nov-27-00:47:56 | Prune: 37008->36968   [solver.py:923]\n",
      " 72%|███████▏  | 5799/8000 [05:25<02:14, 16.33it/s]| endurance | INFO | Nov-27-00:48:02 | Densify: Clone[+] 0, Split[+] 148   [model.py:682]\n",
      "| endurance | INFO | Nov-27-00:48:02 | Densify: 36968->37042   [solver.py:914]\n",
      " 74%|███████▎  | 5899/8000 [05:31<02:07, 16.54it/s]| endurance | INFO | Nov-27-00:48:08 | Densify: Clone[+] 0, Split[+] 130   [model.py:682]\n",
      "| endurance | INFO | Nov-27-00:48:08 | Densify: 37042->37107   [solver.py:914]\n",
      " 75%|███████▍  | 5999/8000 [05:37<01:58, 16.94it/s]| endurance | INFO | Nov-27-00:48:16 | active_sph_order: 3   [solver.py:814]\n",
      "| endurance | INFO | Nov-27-00:48:16 | Prune: 6   [model.py:734]\n",
      "| endurance | INFO | Nov-27-00:48:16 | Prune: 37107->37101   [solver.py:923]\n",
      " 79%|███████▊  | 6299/8000 [05:58<01:45, 16.14it/s]| endurance | INFO | Nov-27-00:48:35 | Prune: 108   [model.py:734]\n",
      "| endurance | INFO | Nov-27-00:48:35 | Prune: 37101->36993   [solver.py:923]\n",
      " 82%|████████▏ | 6599/8000 [06:19<01:24, 16.66it/s]| endurance | INFO | Nov-27-00:48:56 | Prune: 125   [model.py:734]\n",
      "| endurance | INFO | Nov-27-00:48:56 | Prune: 36993->36868   [solver.py:923]\n",
      " 86%|████████▌ | 6899/8000 [06:37<01:08, 16.03it/s]| endurance | INFO | Nov-27-00:49:14 | Prune: 20   [model.py:734]\n",
      "| endurance | INFO | Nov-27-00:49:14 | Prune: 36868->36848   [solver.py:923]\n",
      " 87%|████████▋ | 6999/8000 [06:43<01:01, 16.27it/s]| endurance | INFO | Nov-27-00:49:20 | Regaussian-[1], 11765 (31.9284610748291% pts-scale>0.015)   [model.py:832]\n",
      "| endurance | INFO | Nov-27-00:49:20 | Regaussian-[2], 11112 (22.858083724975586% pts-scale>0.015)   [model.py:832]\n",
      "| endurance | INFO | Nov-27-00:49:20 | Regaussian-[3], 7748 (12.97279167175293% pts-scale>0.015)   [model.py:832]\n",
      "| endurance | INFO | Nov-27-00:49:20 | Regaussian-[4], 5656 (8.382612228393555% pts-scale>0.015)   [model.py:832]\n",
      "| endurance | INFO | Nov-27-00:49:20 | Regaussian-[5], 4160 (5.688577651977539% pts-scale>0.015)   [model.py:832]\n",
      "| endurance | INFO | Nov-27-00:49:21 | Regaussian-[6], 3456 (4.471529006958008% pts-scale>0.015)   [model.py:832]\n",
      "| endurance | INFO | Nov-27-00:49:21 | Regaussian-[7], 2880 (3.566784381866455% pts-scale>0.015)   [model.py:832]\n",
      "| endurance | INFO | Nov-27-00:49:21 | Regaussian-[8], 2176 (2.602092742919922% pts-scale>0.015)   [model.py:832]\n",
      "| endurance | INFO | Nov-27-00:49:21 | Regaussian-[9], 768 (0.8950943946838379% pts-scale>0.015)   [model.py:832]\n",
      "| endurance | INFO | Nov-27-00:49:21 | Re-gaussian: 36848 -> 86569   [model.py:838]\n",
      "| endurance | INFO | Nov-27-00:49:23 | active_sph_order: 4   [solver.py:814]\n",
      " 90%|█████████ | 7200/8000 [07:12<01:38,  8.09it/s]| endurance | INFO | Nov-27-00:49:49 | Prune: 237   [model.py:734]\n",
      "| endurance | INFO | Nov-27-00:49:49 | Prune: 86569->86332   [solver.py:923]\n",
      " 94%|█████████▍| 7500/8000 [07:52<06:36,  1.26it/s]| endurance | INFO | Nov-27-00:50:29 | Prune: 212   [model.py:734]\n",
      "| endurance | INFO | Nov-27-00:50:29 | Prune: 86332->86120   [solver.py:923]\n",
      " 98%|█████████▊| 7800/8000 [08:30<00:25,  7.91it/s]| endurance | INFO | Nov-27-00:51:07 | Prune: 95   [model.py:734]\n",
      "| endurance | INFO | Nov-27-00:51:07 | Prune: 86120->86025   [solver.py:923]\n",
      "100%|██████████| 8000/8000 [08:58<00:00, 14.86it/s]\n",
      "| endurance | INFO | Nov-27-00:51:35 | Training time: 538.223 seconds i.e. 8.970 minutes   [solver.py:1038]\n",
      "| endurance | INFO | Nov-27-00:51:35 | Saving model...   [solver.py:1043]\n",
      "| endurance | INFO | Nov-27-00:51:35 | [_xyz:258.1K] [_rotation:344.1K] [_scaling:258.1K] [_opacity:86.0K] [_features_dc:258.1K] [_features_rest:6193.8K] [_w_correction_dc:0.0K] [_w_correction_rest:0.0K] [_features_localcode:0.0K] [template.voxel_deformer.voxel_w_correction:1572.9K] [template.voxel_deformer.additional_correction:2097.2K]    [model.py:261]\n"
     ]
    },
    {
     "name": "stdout",
     "output_type": "stream",
     "text": [
      "Using predefined pose: t_pose\n"
     ]
    },
    {
     "name": "stderr",
     "output_type": "stream",
     "text": [
      "| endurance | INFO | Nov-27-00:51:38 | Init with 27554 Gaussians   [solver.py:225]\n",
      "| endurance | INFO | Nov-27-00:51:38 | After loading:   [solver.py:174]\n",
      "| endurance | INFO | Nov-27-00:51:38 | [_xyz:258.1K] [_rotation:344.1K] [_scaling:258.1K] [_opacity:86.0K] [_features_dc:258.1K] [_features_rest:6193.8K] [_w_correction_dc:0.0K] [_w_correction_rest:0.0K] [_features_localcode:0.0K] [template.voxel_deformer.voxel_w_correction:1572.9K] [template.voxel_deformer.additional_correction:2097.2K]    [model.py:261]\n",
      "| endurance | INFO | Nov-27-00:51:38 | Model has 86025 points.   [solver.py:1180]\n",
      "| endurance | INFO | Nov-27-00:51:38 | FPS eval using active_sph_order: 4   [solver.py:1187]\n",
      "| endurance | WARNING | Nov-27-00:51:38 | Lossy conversion from float32 to uint8. Range [0.025441905483603477, 1.0147287845611572]. Convert image to uint8 prior to saving to suppress this warning.   [util.py:42]\n",
      "| endurance | INFO | Nov-27-00:51:38 | Start FPS test...   [solver.py:1204]\n",
      "100%|██████████| 840/840 [00:06<00:00, 120.38it/s]\n",
      "| endurance | INFO | Nov-27-00:51:45 | FPS: 120.36473306831708   [solver.py:1223]\n"
     ]
    },
    {
     "name": "stdout",
     "output_type": "stream",
     "text": [
      "Using predefined pose: t_pose\n"
     ]
    },
    {
     "name": "stderr",
     "output_type": "stream",
     "text": [
      "| endurance | INFO | Nov-27-00:51:49 | Init with 27554 Gaussians   [solver.py:225]\n",
      "| endurance | INFO | Nov-27-00:51:49 | After loading:   [solver.py:174]\n",
      "| endurance | INFO | Nov-27-00:51:49 | [_xyz:258.1K] [_rotation:344.1K] [_scaling:258.1K] [_opacity:86.0K] [_features_dc:258.1K] [_features_rest:6193.8K] [_w_correction_dc:0.0K] [_w_correction_rest:0.0K] [_features_localcode:0.0K] [template.voxel_deformer.voxel_w_correction:1572.9K] [template.voxel_deformer.additional_correction:2097.2K]    [model.py:261]\n"
     ]
    },
    {
     "name": "stdout",
     "output_type": "stream",
     "text": [
      "Viz training...\n",
      "Viz spinning...\n",
      "Viz novel cano-pose...\n",
      "Viz novel t-pose...\n",
      "Viz novel da-pose...\n",
      "Viz novel first-frame...\n",
      "Viz novel seq...\n",
      "Using predefined pose: t_pose\n"
     ]
    },
    {
     "name": "stderr",
     "output_type": "stream",
     "text": [
      "| endurance | INFO | Nov-27-00:53:37 | Init with 27554 Gaussians   [solver.py:225]\n",
      "| endurance | INFO | Nov-27-00:53:38 | After loading:   [solver.py:174]\n",
      "| endurance | INFO | Nov-27-00:53:38 | [_xyz:258.1K] [_rotation:344.1K] [_scaling:258.1K] [_opacity:86.0K] [_features_dc:258.1K] [_features_rest:6193.8K] [_w_correction_dc:0.0K] [_w_correction_rest:0.0K] [_features_localcode:0.0K] [template.voxel_deformer.voxel_w_correction:1572.9K] [template.voxel_deformer.additional_correction:2097.2K]    [model.py:261]\n",
      "100%|██████████| 84/84 [00:01<00:00, 51.32it/s]\n",
      "/home/ray/anaconda3/envs/gart/lib/python3.9/site-packages/torchmetrics/utilities/prints.py:62: FutureWarning: Importing `PeakSignalNoiseRatio` from `torchmetrics` was deprecated and will be removed in 2.0. Import `PeakSignalNoiseRatio` from `torchmetrics.image` instead.\n",
      "  _future_warning(\n",
      "/home/ray/anaconda3/envs/gart/lib/python3.9/site-packages/torchmetrics/utilities/prints.py:62: FutureWarning: Importing `StructuralSimilarityIndexMeasure` from `torchmetrics` was deprecated and will be removed in 2.0. Import `StructuralSimilarityIndexMeasure` from `torchmetrics.image` instead.\n",
      "  _future_warning(\n",
      "| endurance | INFO | Nov-27-00:53:39 | Saving images [TTO=True] [N=84]...   [test_func.py:211]\n",
      "84it [04:35,  3.27s/it]\n",
      "| endurance | INFO | Nov-27-00:58:16 | Image size: 940x2160   [test_func.py:342]\n",
      "| endurance | INFO | Nov-27-00:58:17 | Eval with instant-avatar Evaluator from their original code release   [test_func.py:354]\n",
      "| endurance | INFO | Nov-27-00:58:17 | [test_tto] PSNR: 24.55   [test_func.py:359]\n",
      "| endurance | INFO | Nov-27-00:58:17 | [test_tto] SSIM: 0.9221   [test_func.py:364]\n",
      "| endurance | INFO | Nov-27-00:58:17 | [test_tto] LPIPS: 0.0911   [test_func.py:369]\n"
     ]
    }
   ],
   "source": [
    "%load_ext autoreload\n",
    "%autoreload 2\n",
    "import os, os.path as osp\n",
    "from solver import TGFitter\n",
    "from datetime import datetime\n",
    "import torch\n",
    "from test_utils import test\n",
    "from viz_utils import viz_human_all\n",
    "\n",
    "torch.cuda.empty_cache()\n",
    "dataset_mode = \"instant_avatar_wild\"\n",
    "seq_name = \"ourpose_ubc_91+bCFG1jOS\"\n",
    "\n",
    "profile_fn = \"./profiles/ubc/ubc_mlp.yaml\"\n",
    "\n",
    "base_name = \"example_release\"\n",
    "log_dir = f\"./logs/{base_name}/seq={seq_name}_prof={osp.basename(profile_fn).split('.')[0]}_data={dataset_mode}\"\n",
    "\n",
    "solver = TGFitter(\n",
    "    log_dir=log_dir,\n",
    "    profile_fn=profile_fn,\n",
    "    mode=\"human\",\n",
    "    template_model_path=\"./data/smpl_model/SMPL_NEUTRAL.pkl\",\n",
    "    device=torch.device(\"cuda:0\"),\n",
    ")\n",
    "\n",
    "data_provider, trainset = solver.prepare_real_seq(seq_name, dataset_mode, split=\"train\", ins_avt_wild_start_end_skip=(0, 1000000, 4))\n",
    "_, optimized_seq = solver.run(data_provider)\n",
    "solver.eval_fps(solver.load_saved_model(), optimized_seq, rounds=10)\n",
    "\n",
    "viz_human_all(solver, optimized_seq, training_skip=1)\n",
    "\n",
    "test(\n",
    "    solver,\n",
    "    seq_name=seq_name,\n",
    "    tto_flag=True,\n",
    "    tto_step=50,\n",
    "    tto_decay=20,\n",
    "    dataset_mode=dataset_mode,\n",
    "    pose_base_lr=4e-3,\n",
    "    pose_rest_lr=4e-3,\n",
    "    trans_lr=4e-3,\n",
    "    training_optimized_seq=optimized_seq,\n",
    ")"
   ]
  },
  {
   "cell_type": "markdown",
   "metadata": {},
   "source": [
    "# Dog"
   ]
  },
  {
   "cell_type": "code",
   "execution_count": 9,
   "metadata": {},
   "outputs": [
    {
     "name": "stderr",
     "output_type": "stream",
     "text": [
      "| endurance | INFO | Nov-27-00:58:17 | Prepare real seq: shiba   [get_data.py:24]\n"
     ]
    },
    {
     "name": "stdout",
     "output_type": "stream",
     "text": [
      "The autoreload extension is already loaded. To reload it, use:\n",
      "  %reload_ext autoreload\n"
     ]
    },
    {
     "name": "stderr",
     "output_type": "stream",
     "text": [
      "100%|██████████| 288/288 [00:02<00:00, 114.90it/s]\n"
     ]
    },
    {
     "name": "stdout",
     "output_type": "stream",
     "text": [
      "Loaded 288 frames from shiba\n"
     ]
    },
    {
     "name": "stderr",
     "output_type": "stream",
     "text": [
      "100%|██████████| 288/288 [00:00<00:00, 1004.98it/s]\n",
      "100%|██████████| 288/288 [00:00<00:00, 79215.66it/s]\n",
      "| endurance | INFO | Nov-27-00:58:24 | Init with 15550 Gaussians   [solver.py:225]\n",
      "| endurance | INFO | Nov-27-00:58:24 | Start training at 1701064704.8523326   [solver.py:797]\n",
      "  3%|▎         | 298/10000 [00:14<07:10, 22.56it/s]| endurance | INFO | Nov-27-00:58:39 | Densify: Clone[+] 0, Split[+] 152   [model.py:682]\n",
      "| endurance | INFO | Nov-27-00:58:39 | Densify: 15550->15626   [solver.py:914]\n",
      "| endurance | INFO | Nov-27-00:58:39 | Prune: 14   [model.py:734]\n",
      "| endurance | INFO | Nov-27-00:58:39 | Prune: 15626->15612   [solver.py:923]\n",
      "  6%|▌         | 598/10000 [00:29<07:08, 21.94it/s]| endurance | INFO | Nov-27-00:58:54 | Densify: Clone[+] 4, Split[+] 360   [model.py:682]\n",
      "| endurance | INFO | Nov-27-00:58:54 | Densify: 15612->15796   [solver.py:914]\n",
      "| endurance | INFO | Nov-27-00:58:54 | Prune: 43   [model.py:734]\n",
      "| endurance | INFO | Nov-27-00:58:54 | Prune: 15796->15753   [solver.py:923]\n",
      "  9%|▉         | 898/10000 [00:43<07:07, 21.29it/s]| endurance | INFO | Nov-27-00:59:08 | Densify: Clone[+] 1, Split[+] 370   [model.py:682]\n",
      "| endurance | INFO | Nov-27-00:59:08 | Densify: 15753->15939   [solver.py:914]\n",
      "| endurance | INFO | Nov-27-00:59:08 | Prune: 35   [model.py:734]\n",
      "| endurance | INFO | Nov-27-00:59:08 | Prune: 15939->15904   [solver.py:923]\n",
      " 10%|█         | 1000/10000 [00:49<31:46,  4.72it/s]| endurance | INFO | Nov-27-00:59:14 | active_sph_order: 1   [solver.py:814]\n",
      "| endurance | INFO | Nov-27-00:59:14 | Reset opacity to 0.05   [model.py:849]\n",
      " 12%|█▏        | 1198/10000 [00:58<06:50, 21.43it/s]| endurance | INFO | Nov-27-00:59:23 | Densify: Clone[+] 0, Split[+] 60   [model.py:682]\n",
      "| endurance | INFO | Nov-27-00:59:23 | Densify: 15904->15934   [solver.py:914]\n",
      "| endurance | INFO | Nov-27-00:59:23 | Prune: 1971   [model.py:734]\n",
      "| endurance | INFO | Nov-27-00:59:23 | Prune: 15934->13963   [solver.py:923]\n",
      " 15%|█▍        | 1498/10000 [01:12<06:34, 21.57it/s]| endurance | INFO | Nov-27-00:59:39 | Densify: Clone[+] 0, Split[+] 202   [model.py:682]\n",
      "| endurance | INFO | Nov-27-00:59:39 | Densify: 13963->14064   [solver.py:914]\n",
      "| endurance | INFO | Nov-27-00:59:39 | Prune: 323   [model.py:734]\n",
      "| endurance | INFO | Nov-27-00:59:39 | Prune: 14064->13741   [solver.py:923]\n",
      " 18%|█▊        | 1798/10000 [01:27<05:53, 23.23it/s]| endurance | INFO | Nov-27-00:59:52 | Densify: Clone[+] 0, Split[+] 308   [model.py:682]\n",
      "| endurance | INFO | Nov-27-00:59:52 | Densify: 13741->13895   [solver.py:914]\n",
      "| endurance | INFO | Nov-27-00:59:52 | Prune: 120   [model.py:734]\n",
      "| endurance | INFO | Nov-27-00:59:52 | Prune: 13895->13775   [solver.py:923]\n",
      " 20%|█▉        | 1999/10000 [01:36<06:01, 22.13it/s]| endurance | INFO | Nov-27-01:00:03 | active_sph_order: 2   [solver.py:814]\n",
      "| endurance | INFO | Nov-27-01:00:03 | Reset opacity to 0.05   [model.py:849]\n",
      " 21%|██        | 2098/10000 [01:42<06:11, 21.27it/s]| endurance | INFO | Nov-27-01:00:07 | Densify: Clone[+] 0, Split[+] 82   [model.py:682]\n",
      "| endurance | INFO | Nov-27-01:00:07 | Densify: 13775->13816   [solver.py:914]\n",
      "| endurance | INFO | Nov-27-01:00:07 | Prune: 565   [model.py:734]\n",
      "| endurance | INFO | Nov-27-01:00:07 | Prune: 13816->13251   [solver.py:923]\n",
      " 24%|██▍       | 2398/10000 [01:56<05:42, 22.19it/s]| endurance | INFO | Nov-27-01:00:21 | Densify: Clone[+] 0, Split[+] 82   [model.py:682]\n",
      "| endurance | INFO | Nov-27-01:00:21 | Densify: 13251->13292   [solver.py:914]\n",
      "| endurance | INFO | Nov-27-01:00:21 | Prune: 104   [model.py:734]\n",
      "| endurance | INFO | Nov-27-01:00:21 | Prune: 13292->13188   [solver.py:923]\n",
      " 27%|██▋       | 2698/10000 [02:12<05:33, 21.89it/s]| endurance | INFO | Nov-27-01:00:37 | Densify: Clone[+] 0, Split[+] 116   [model.py:682]\n",
      "| endurance | INFO | Nov-27-01:00:37 | Densify: 13188->13246   [solver.py:914]\n",
      "| endurance | INFO | Nov-27-01:00:37 | Prune: 47   [model.py:734]\n",
      "| endurance | INFO | Nov-27-01:00:37 | Prune: 13246->13199   [solver.py:923]\n",
      " 30%|██▉       | 2998/10000 [02:26<05:25, 21.50it/s]| endurance | INFO | Nov-27-01:00:53 | active_sph_order: 3   [solver.py:814]\n",
      "| endurance | INFO | Nov-27-01:00:53 | Densify: Clone[+] 0, Split[+] 200   [model.py:682]\n",
      "| endurance | INFO | Nov-27-01:00:53 | Densify: 13199->13299   [solver.py:914]\n",
      "| endurance | INFO | Nov-27-01:00:53 | Prune: 81   [model.py:734]\n",
      "| endurance | INFO | Nov-27-01:00:53 | Prune: 13299->13218   [solver.py:923]\n",
      " 30%|███       | 3001/10000 [02:28<25:10,  4.63it/s]| endurance | INFO | Nov-27-01:00:53 | Reset opacity to 0.05   [model.py:849]\n",
      " 33%|███▎      | 3298/10000 [02:42<05:40, 19.66it/s]| endurance | INFO | Nov-27-01:01:07 | Densify: Clone[+] 0, Split[+] 2   [model.py:682]\n",
      "| endurance | INFO | Nov-27-01:01:07 | Densify: 13218->13219   [solver.py:914]\n",
      "| endurance | INFO | Nov-27-01:01:07 | Prune: 148   [model.py:734]\n",
      "| endurance | INFO | Nov-27-01:01:07 | Prune: 13219->13071   [solver.py:923]\n",
      " 36%|███▌      | 3599/10000 [02:59<05:07, 20.78it/s]| endurance | INFO | Nov-27-01:01:24 | Densify: Clone[+] 0, Split[+] 88   [model.py:682]\n",
      "| endurance | INFO | Nov-27-01:01:24 | Densify: 13071->13115   [solver.py:914]\n",
      "| endurance | INFO | Nov-27-01:01:24 | Prune: 77   [model.py:734]\n",
      "| endurance | INFO | Nov-27-01:01:24 | Prune: 13115->13038   [solver.py:923]\n",
      " 39%|███▉      | 3898/10000 [03:13<04:59, 20.38it/s]| endurance | INFO | Nov-27-01:01:38 | Densify: Clone[+] 0, Split[+] 118   [model.py:682]\n",
      "| endurance | INFO | Nov-27-01:01:38 | Densify: 13038->13097   [solver.py:914]\n",
      "| endurance | INFO | Nov-27-01:01:38 | Prune: 58   [model.py:734]\n",
      "| endurance | INFO | Nov-27-01:01:38 | Prune: 13097->13039   [solver.py:923]\n",
      " 40%|████      | 4000/10000 [03:20<23:38,  4.23it/s]| endurance | INFO | Nov-27-01:01:45 | Reset opacity to 0.05   [model.py:849]\n",
      " 42%|████▏     | 4199/10000 [03:30<04:42, 20.55it/s]| endurance | INFO | Nov-27-01:01:55 | Densify: Clone[+] 0, Split[+] 6   [model.py:682]\n",
      "| endurance | INFO | Nov-27-01:01:55 | Densify: 13039->13042   [solver.py:914]\n",
      "| endurance | INFO | Nov-27-01:01:55 | Prune: 40   [model.py:734]\n",
      "| endurance | INFO | Nov-27-01:01:55 | Prune: 13042->13002   [solver.py:923]\n",
      " 45%|████▍     | 4499/10000 [03:44<04:25, 20.69it/s]| endurance | INFO | Nov-27-01:02:11 | Densify: Clone[+] 0, Split[+] 62   [model.py:682]\n",
      "| endurance | INFO | Nov-27-01:02:11 | Densify: 13002->13033   [solver.py:914]\n",
      "| endurance | INFO | Nov-27-01:02:11 | Prune: 17   [model.py:734]\n",
      "| endurance | INFO | Nov-27-01:02:11 | Prune: 13033->13016   [solver.py:923]\n",
      " 48%|████▊     | 4800/10000 [04:00<04:02, 21.46it/s]| endurance | INFO | Nov-27-01:02:25 | Densify: Clone[+] 0, Split[+] 116   [model.py:682]\n",
      "| endurance | INFO | Nov-27-01:02:25 | Densify: 13016->13074   [solver.py:914]\n",
      "| endurance | INFO | Nov-27-01:02:25 | Prune: 72   [model.py:734]\n",
      "| endurance | INFO | Nov-27-01:02:25 | Prune: 13074->13002   [solver.py:923]\n",
      " 50%|█████     | 5001/10000 [04:12<18:59,  4.39it/s]| endurance | INFO | Nov-27-01:02:36 | Reset opacity to 0.05   [model.py:849]\n",
      " 51%|█████     | 5099/10000 [04:16<03:56, 20.71it/s]| endurance | INFO | Nov-27-01:02:41 | Densify: Clone[+] 0, Split[+] 8   [model.py:682]\n",
      "| endurance | INFO | Nov-27-01:02:41 | Densify: 13002->13006   [solver.py:914]\n",
      "| endurance | INFO | Nov-27-01:02:41 | Prune: 112   [model.py:734]\n",
      "| endurance | INFO | Nov-27-01:02:41 | Prune: 13006->12894   [solver.py:923]\n",
      " 54%|█████▍    | 5400/10000 [04:30<03:34, 21.46it/s]| endurance | INFO | Nov-27-01:02:55 | Densify: Clone[+] 0, Split[+] 26   [model.py:682]\n",
      "| endurance | INFO | Nov-27-01:02:55 | Densify: 12894->12907   [solver.py:914]\n",
      "| endurance | INFO | Nov-27-01:02:55 | Prune: 23   [model.py:734]\n",
      "| endurance | INFO | Nov-27-01:02:55 | Prune: 12907->12884   [solver.py:923]\n",
      " 57%|█████▋    | 5700/10000 [04:46<03:26, 20.80it/s]| endurance | INFO | Nov-27-01:03:11 | Densify: Clone[+] 0, Split[+] 94   [model.py:682]\n",
      "| endurance | INFO | Nov-27-01:03:11 | Densify: 12884->12931   [solver.py:914]\n",
      "| endurance | INFO | Nov-27-01:03:11 | Prune: 25   [model.py:734]\n",
      "| endurance | INFO | Nov-27-01:03:11 | Prune: 12931->12906   [solver.py:923]\n",
      " 60%|█████▉    | 5999/10000 [05:00<03:09, 21.08it/s]| endurance | INFO | Nov-27-01:03:29 | Densify: Clone[+] 0, Split[+] 106   [model.py:682]\n",
      "| endurance | INFO | Nov-27-01:03:29 | Densify: 12906->12959   [solver.py:914]\n",
      "| endurance | INFO | Nov-27-01:03:29 | Prune: 60   [model.py:734]\n",
      "| endurance | INFO | Nov-27-01:03:29 | Prune: 12959->12899   [solver.py:923]\n",
      "| endurance | INFO | Nov-27-01:03:29 | Reset opacity to 0.05   [model.py:849]\n",
      " 63%|██████▎   | 6298/10000 [05:18<02:47, 22.12it/s]| endurance | INFO | Nov-27-01:03:43 | Densify: Clone[+] 0, Split[+] 4   [model.py:682]\n",
      "| endurance | INFO | Nov-27-01:03:43 | Densify: 12899->12901   [solver.py:914]\n",
      "| endurance | INFO | Nov-27-01:03:43 | Prune: 22   [model.py:734]\n",
      "| endurance | INFO | Nov-27-01:03:43 | Prune: 12901->12879   [solver.py:923]\n",
      " 66%|██████▌   | 6600/10000 [05:34<02:38, 21.41it/s]| endurance | INFO | Nov-27-01:03:59 | Densify: Clone[+] 0, Split[+] 42   [model.py:682]\n",
      "| endurance | INFO | Nov-27-01:03:59 | Densify: 12879->12900   [solver.py:914]\n",
      "| endurance | INFO | Nov-27-01:03:59 | Prune: 44   [model.py:734]\n",
      "| endurance | INFO | Nov-27-01:03:59 | Prune: 12900->12856   [solver.py:923]\n",
      " 69%|██████▉   | 6898/10000 [05:48<02:34, 20.07it/s]| endurance | INFO | Nov-27-01:04:13 | Densify: Clone[+] 0, Split[+] 78   [model.py:682]\n",
      "| endurance | INFO | Nov-27-01:04:13 | Densify: 12856->12895   [solver.py:914]\n",
      "| endurance | INFO | Nov-27-01:04:13 | Prune: 23   [model.py:734]\n",
      "| endurance | INFO | Nov-27-01:04:13 | Prune: 12895->12872   [solver.py:923]\n",
      " 70%|███████   | 7000/10000 [05:55<11:44,  4.26it/s]| endurance | INFO | Nov-27-01:04:20 | Reset opacity to 0.05   [model.py:849]\n",
      " 72%|███████▏  | 7198/10000 [06:04<02:15, 20.74it/s]| endurance | INFO | Nov-27-01:04:29 | Densify: Clone[+] 0, Split[+] 8   [model.py:682]\n",
      "| endurance | INFO | Nov-27-01:04:29 | Densify: 12872->12876   [solver.py:914]\n",
      "| endurance | INFO | Nov-27-01:04:29 | Prune: 103   [model.py:734]\n",
      "| endurance | INFO | Nov-27-01:04:29 | Prune: 12876->12773   [solver.py:923]\n",
      " 75%|███████▍  | 7499/10000 [06:19<02:14, 18.57it/s]| endurance | INFO | Nov-27-01:04:46 | Densify: Clone[+] 0, Split[+] 24   [model.py:682]\n",
      "| endurance | INFO | Nov-27-01:04:46 | Densify: 12773->12785   [solver.py:914]\n",
      "| endurance | INFO | Nov-27-01:04:46 | Prune: 20   [model.py:734]\n",
      "| endurance | INFO | Nov-27-01:04:46 | Prune: 12785->12765   [solver.py:923]\n",
      " 78%|███████▊  | 7798/10000 [06:35<01:44, 21.13it/s]| endurance | INFO | Nov-27-01:05:00 | Densify: Clone[+] 0, Split[+] 40   [model.py:682]\n",
      "| endurance | INFO | Nov-27-01:05:00 | Densify: 12765->12785   [solver.py:914]\n",
      "| endurance | INFO | Nov-27-01:05:00 | Prune: 17   [model.py:734]\n",
      "| endurance | INFO | Nov-27-01:05:00 | Prune: 12785->12768   [solver.py:923]\n",
      " 80%|███████▉  | 7999/10000 [06:45<01:34, 21.27it/s]| endurance | INFO | Nov-27-01:05:12 | Reset opacity to 0.05   [model.py:849]\n",
      " 81%|████████  | 8100/10000 [06:51<01:31, 20.71it/s]| endurance | INFO | Nov-27-01:05:16 | Prune: 139   [model.py:734]\n",
      "| endurance | INFO | Nov-27-01:05:16 | Prune: 12768->12629   [solver.py:923]\n",
      " 84%|████████▍ | 8400/10000 [07:06<01:19, 20.13it/s]| endurance | INFO | Nov-27-01:05:31 | Prune: 7   [model.py:734]\n",
      "| endurance | INFO | Nov-27-01:05:31 | Prune: 12629->12622   [solver.py:923]\n",
      " 87%|████████▋ | 8700/10000 [07:22<01:02, 20.92it/s]| endurance | INFO | Nov-27-01:05:47 | Prune: 14   [model.py:734]\n",
      "| endurance | INFO | Nov-27-01:05:47 | Prune: 12622->12608   [solver.py:923]\n",
      " 90%|████████▉ | 8998/10000 [07:37<00:48, 20.87it/s]| endurance | INFO | Nov-27-01:06:04 | Prune: 30   [model.py:734]\n",
      "| endurance | INFO | Nov-27-01:06:04 | Prune: 12608->12578   [solver.py:923]\n",
      " 90%|█████████ | 9001/10000 [07:39<04:28,  3.72it/s]| endurance | INFO | Nov-27-01:06:04 | Reset opacity to 0.05   [model.py:849]\n",
      " 93%|█████████▎| 9300/10000 [07:53<00:34, 20.53it/s]| endurance | INFO | Nov-27-01:06:18 | Prune: 19   [model.py:734]\n",
      "| endurance | INFO | Nov-27-01:06:18 | Prune: 12578->12559   [solver.py:923]\n",
      " 96%|█████████▌| 9599/10000 [08:10<00:19, 20.61it/s]| endurance | INFO | Nov-27-01:06:35 | Prune: 12   [model.py:734]\n",
      "| endurance | INFO | Nov-27-01:06:35 | Prune: 12559->12547   [solver.py:923]\n",
      " 99%|█████████▉| 9900/10000 [08:24<00:04, 21.27it/s]| endurance | INFO | Nov-27-01:06:49 | Prune: 9   [model.py:734]\n",
      "| endurance | INFO | Nov-27-01:06:49 | Prune: 12547->12538   [solver.py:923]\n",
      "100%|██████████| 10000/10000 [08:31<00:00, 19.55it/s]\n",
      "| endurance | INFO | Nov-27-01:06:56 | Training time: 511.406 seconds i.e. 8.523 minutes   [solver.py:1038]\n",
      "| endurance | INFO | Nov-27-01:06:56 | Saving model...   [solver.py:1043]\n",
      "| endurance | INFO | Nov-27-01:06:56 | [_xyz:37.6K] [_rotation:50.2K] [_scaling:37.6K] [_opacity:12.5K] [_features_dc:37.6K] [_features_rest:564.2K] [_w_correction_dc:0.0K] [_w_correction_rest:0.0K] [_features_localcode:0.0K] [template.voxel_deformer.voxel_w_correction:4587.5K]    [model.py:261]\n",
      "| endurance | INFO | Nov-27-01:06:59 | Init with 15550 Gaussians   [solver.py:225]\n",
      "| endurance | INFO | Nov-27-01:07:00 | After loading:   [solver.py:174]\n",
      "| endurance | INFO | Nov-27-01:07:00 | [_xyz:37.6K] [_rotation:50.2K] [_scaling:37.6K] [_opacity:12.5K] [_features_dc:37.6K] [_features_rest:564.2K] [_w_correction_dc:0.0K] [_w_correction_rest:0.0K] [_features_localcode:0.0K] [template.voxel_deformer.voxel_w_correction:4587.5K]    [model.py:261]\n",
      "| endurance | INFO | Nov-27-01:07:00 | Model has 12538 points.   [solver.py:1180]\n",
      "| endurance | INFO | Nov-27-01:07:00 | FPS eval using active_sph_order: 3   [solver.py:1187]\n",
      "| endurance | WARNING | Nov-27-01:07:00 | Lossy conversion from float32 to uint8. Range [0.0553336925804615, 1.0019550323486328]. Convert image to uint8 prior to saving to suppress this warning.   [util.py:42]\n",
      "| endurance | INFO | Nov-27-01:07:00 | Start FPS test...   [solver.py:1204]\n",
      "100%|██████████| 2880/2880 [00:31<00:00, 90.28it/s]\n",
      "| endurance | INFO | Nov-27-01:07:32 | FPS: 90.27347298932852   [solver.py:1223]\n",
      "| endurance | INFO | Nov-27-01:07:36 | Init with 15550 Gaussians   [solver.py:225]\n",
      "| endurance | INFO | Nov-27-01:07:36 | After loading:   [solver.py:174]\n",
      "| endurance | INFO | Nov-27-01:07:36 | [_xyz:37.6K] [_rotation:50.2K] [_scaling:37.6K] [_opacity:12.5K] [_features_dc:37.6K] [_features_rest:564.2K] [_w_correction_dc:0.0K] [_w_correction_rest:0.0K] [_features_localcode:0.0K] [template.voxel_deformer.voxel_w_correction:4587.5K]    [model.py:261]\n",
      "| endurance | INFO | Nov-27-01:07:47 | Init with 15550 Gaussians   [solver.py:225]\n",
      "| endurance | INFO | Nov-27-01:07:47 | After loading:   [solver.py:174]\n",
      "| endurance | INFO | Nov-27-01:07:47 | [_xyz:37.6K] [_rotation:50.2K] [_scaling:37.6K] [_opacity:12.5K] [_features_dc:37.6K] [_features_rest:564.2K] [_w_correction_dc:0.0K] [_w_correction_rest:0.0K] [_features_localcode:0.0K] [template.voxel_deformer.voxel_w_correction:4587.5K]    [model.py:261]\n",
      "100%|██████████| 15/15 [00:00<00:00, 115.49it/s]\n"
     ]
    },
    {
     "name": "stdout",
     "output_type": "stream",
     "text": [
      "Loaded 15 frames from shiba\n"
     ]
    },
    {
     "name": "stderr",
     "output_type": "stream",
     "text": [
      "/home/ray/anaconda3/envs/gart/lib/python3.9/site-packages/torchmetrics/utilities/prints.py:62: FutureWarning: Importing `PeakSignalNoiseRatio` from `torchmetrics` was deprecated and will be removed in 2.0. Import `PeakSignalNoiseRatio` from `torchmetrics.image` instead.\n",
      "  _future_warning(\n",
      "/home/ray/anaconda3/envs/gart/lib/python3.9/site-packages/torchmetrics/utilities/prints.py:62: FutureWarning: Importing `StructuralSimilarityIndexMeasure` from `torchmetrics` was deprecated and will be removed in 2.0. Import `StructuralSimilarityIndexMeasure` from `torchmetrics.image` instead.\n",
      "  _future_warning(\n",
      "| endurance | INFO | Nov-27-01:07:48 | Saving images [TTO=True] [N=15]...   [test_func.py:211]\n",
      "15it [01:34,  6.28s/it]\n",
      "| endurance | INFO | Nov-27-01:09:22 | Image size: 512x1536   [test_func.py:342]\n",
      "| endurance | INFO | Nov-27-01:09:23 | Eval with instant-avatar-brightness Evaluator from their original code release   [test_func.py:354]\n",
      "| endurance | INFO | Nov-27-01:09:23 | [test_tto] PSNR: 25.11   [test_func.py:359]\n",
      "| endurance | INFO | Nov-27-01:09:23 | [test_tto] SSIM: 0.9080   [test_func.py:364]\n",
      "| endurance | INFO | Nov-27-01:09:23 | [test_tto] LPIPS: 0.1493   [test_func.py:369]\n"
     ]
    }
   ],
   "source": [
    "\n",
    "%load_ext autoreload\n",
    "%autoreload 2\n",
    "import os, os.path as osp\n",
    "from solver import TGFitter\n",
    "from datetime import datetime\n",
    "import torch\n",
    "from test_utils import test\n",
    "from viz_utils import viz_dog_all\n",
    "\n",
    "torch.cuda.empty_cache()\n",
    "dataset_mode = \"dog_demo\"\n",
    "seq_name = \"shiba\"\n",
    "\n",
    "profile_fn = \"./profiles/dog/dog.yaml\"\n",
    "\n",
    "base_name = \"example_release\"\n",
    "log_dir = f\"./logs/{base_name}/seq={seq_name}_prof={osp.basename(profile_fn).split('.')[0]}_data={dataset_mode}\"\n",
    "solver = TGFitter(\n",
    "    log_dir=log_dir,\n",
    "    profile_fn=profile_fn,\n",
    "    mode=\"dog\",\n",
    "    template_model_path=None,\n",
    "    device=torch.device(\"cuda:0\"),\n",
    ")\n",
    "\n",
    "data_provider, trainset = solver.prepare_real_seq(seq_name, dataset_mode, split=\"train\")\n",
    "_, optimized_seq = solver.run(data_provider)\n",
    "solver.eval_fps(solver.load_saved_model(), optimized_seq, rounds=10)\n",
    "\n",
    "viz_dog_all(solver, optimized_seq)\n",
    "\n",
    "test(\n",
    "    solver,\n",
    "    seq_name=seq_name,\n",
    "    tto_flag=True,\n",
    "    tto_step=160,\n",
    "    tto_decay=50,\n",
    "    dataset_mode=dataset_mode,\n",
    "    pose_base_lr=2e-2,\n",
    "    pose_rest_lr=2e-2,\n",
    "    trans_lr=2e-2,\n",
    ")"
   ]
  }
 ],
 "metadata": {
  "kernelspec": {
   "display_name": "tpg",
   "language": "python",
   "name": "python3"
  },
  "language_info": {
   "codemirror_mode": {
    "name": "ipython",
    "version": 3
   },
   "file_extension": ".py",
   "mimetype": "text/x-python",
   "name": "python",
   "nbconvert_exporter": "python",
   "pygments_lexer": "ipython3",
   "version": "3.9.18"
  }
 },
 "nbformat": 4,
 "nbformat_minor": 2
}
